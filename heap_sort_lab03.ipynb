{
  "cells": [
    {
      "cell_type": "markdown",
      "metadata": {
        "id": "LTM-tQSzRO2b"
      },
      "source": [
        "# Disciplina de Classificação e Pesquisa de Dados\n",
        "\n",
        "# Laboratório #3\n",
        "\n",
        "### Implementação (em Python) dos principais algoritmos de classificação por seleção.\n",
        "\n",
        "---"
      ]
    },
    {
      "cell_type": "markdown",
      "metadata": {
        "id": "AkA1bR3jUN8v"
      },
      "source": [
        "**A seguir você encontra duas funções**: uma que implementa o algoritmo de **seleção direta (*selection_sort*)** e outro que implementa uma versão local do algoritmo **heap sort (*heap_sort*)**.\n",
        "\n",
        "Como já vimos, o *heapsort* utiliza *buildheap* para construir um `max-heap` a partir do *array* passado (lembre-se que um `max-heap` é aquele que tem o maior elemento na raíz, i.e., os pais são sempre maiores ou iguais aos filhos).\n",
        "\n",
        "Você **também encontra funções auxiliares para identificar o filho esquerdo, o filho direito e o pai de um elemento** no array (heap).\n",
        "\n",
        "Estude o código e os exemplos de uso que estão nas células seguintes."
      ]
    },
    {
      "cell_type": "code",
      "execution_count": 421,
      "metadata": {
        "id": "nOWvfug_RO2l"
      },
      "outputs": [],
      "source": [
        "import numpy as np  # importa a biblioteca numpy (que trabalha com arrays numéricos)\n",
        "import time         # importa a biblioteca utilizada para contar o tempo\n",
        "import pandas as pd # biblioteca para trabalhar com data frames\n",
        "import math\n",
        "\n",
        "################################################\n",
        "# Algoritmos de ordenação por Seleção\n",
        "################################################\n",
        "\n",
        "# Seleção direta\n",
        "def selection_sort(array):\n",
        "    trocas = comparacoes = 0\n",
        "    for i in range(0, len(array)-1):\n",
        "        menorchave = i\n",
        "        for j in range(i, len(array)):\n",
        "            comparacoes = comparacoes + 1\n",
        "            if array[j] < array[menorchave]:\n",
        "                menorchave = j\n",
        "        if menorchave != i:\n",
        "            array[i], array[menorchave] = array[menorchave], array[i]\n",
        "            trocas = trocas + 1\n",
        "    return {'trocas':trocas, 'comparacoes':comparacoes}\n",
        "\n",
        "# Heapsort\n",
        "def heap_sort(array):\n",
        "    log_operacoes = {'trocas':0, 'comparacoes':0}\n",
        "    heap_size = len(array)\n",
        "    qtd_elementos = heap_size-1\n",
        "\n",
        "    # constroi heap-max\n",
        "    #build_heap_auxiliar(array, log_operacoes)\n",
        "    build_heap(array, log_operacoes)\n",
        "\n",
        "    # desconstroi heap e ordena array\n",
        "    for i in range(qtd_elementos, 0, -1): #parte de qtd até zero, decrementado um a um\n",
        "        log_operacoes['trocas'] = log_operacoes['trocas'] + 1\n",
        "        array[i], array[0] = array[0], array[i]          # troca\n",
        "        heap_size = heap_size - 1\n",
        "        heapify(array, 0, heap_size, log_operacoes)\n",
        "\n",
        "    return log_operacoes\n",
        "\n",
        "# Buildheap: constroi um heap a partir de um array (usado no heap_sort)\n",
        "def build_heap(array, log_operacoes={'trocas':0, 'comparacoes':0}):\n",
        "    ultimo_pai = math.floor(len(array)/2)-1\n",
        "    for indice in range(ultimo_pai, -1, -1):                                    # range entre [ultimo_pai e -1| (i.e., 0)\n",
        "        heapify(array, indice, len(array), log_operacoes)\n",
        "    return log_operacoes\n",
        "\n",
        "# heapify: verifica se o elemento na posição passada é um heap e se não for transforma-o em um\n",
        "# parâmetros: array, índice do elemento a heapificar, tamanho do heap, dicionário de logs\n",
        "def heapify(array, elemento, heap_size, log_operacoes):\n",
        "    e=filho_e(array, elemento)\n",
        "    d=filho_d(array, elemento)\n",
        "    maior=elemento\n",
        "\n",
        "    log_operacoes['comparacoes'] = log_operacoes['comparacoes'] + 1\n",
        "    if e < heap_size and array[e] > array[maior]:\n",
        "      maior=e\n",
        "\n",
        "    log_operacoes['comparacoes'] = log_operacoes['comparacoes'] + 1\n",
        "    if d < heap_size and array[d] > array[maior]:\n",
        "      maior=d\n",
        "\n",
        "    if maior != elemento:\n",
        "      log_operacoes['comparacoes'] = log_operacoes['comparacoes'] + 1\n",
        "      log_operacoes['trocas'] = log_operacoes['trocas'] + 1\n",
        "      array[elemento],array[maior] = array[maior],array[elemento]\n",
        "      heapify(array, maior, heap_size, log_operacoes)\n",
        "\n",
        "    return log_operacoes\n",
        "\n",
        "def filho_e(array, elemento):\n",
        "    return math.floor(elemento*2+1)\n",
        "\n",
        "def filho_d(array, elemento):\n",
        "    return math.floor(elemento*2+2)\n",
        "\n",
        "def pai(array, elemento):\n",
        "    return math.floor((elemento-1)/2)\n",
        "\n",
        "# imprime array em forma de heap\n",
        "def print_heap(array):\n",
        "    indice = 0\n",
        "    max_numeros = 2**(math.floor(math.log(len(array),2))+1)\n",
        "    max_posicoes = max_numeros*4-2\n",
        "    while indice < len(array):\n",
        "        nivel_esperado = nivel_calculado = math.floor(math.log(indice+1,2))+1\n",
        "        tmp_str = \"\"\n",
        "        qtd_elementos_nivel = 2**nivel_esperado\n",
        "        tamanho = math.floor(max_posicoes / qtd_elementos_nivel)+1\n",
        "        while nivel_esperado == nivel_calculado and indice < len(array):\n",
        "            elemento = '{:02d}'.format(array[indice])\n",
        "            tmp_str = tmp_str + '{:{position}{width}}'.format(elemento, position=\"^\", width=tamanho)\n",
        "            indice = indice + 1\n",
        "            nivel_calculado = math.floor(math.log(indice+1,2))+1\n",
        "        print(tmp_str)"
      ]
    },
    {
      "cell_type": "markdown",
      "metadata": {
        "id": "z74iJSXMP0ES"
      },
      "source": [
        "## Exercícios\n",
        "\n",
        "1. **Implemente as funções 'heap_max', 'extract_max' e 'insert_heap'**. A primeira devolve o primeiro elemento do heap (sem retirá-lo), operando em *O*(1). A segunda devolve e extrai o primeiro elemento do heap, colocando um elemento substituto no lugar em *O*(log *n*), garantindo que o array continua sendo um heap. A última insere um elemento no heap em *O*(log *n*), mantendo as propriedades de heap do array.\n",
        "\n",
        "Depois, teste-as para verificar se estão corretas!\n"
      ]
    },
    {
      "cell_type": "markdown",
      "metadata": {
        "id": "pt9L2UpAT6OW"
      },
      "source": [
        "2. **Elabore uma versão de build-heap** que constroi o heap de cima para baixo ao invés de baixo para cima. Para tanto, ela deve fazer heapify do primeiro ao último elemento pai (e não do último pai para a raíz). Se desejar, elabore  também alguma versão diferente, com base em alguma ideia sua.\n",
        "\n",
        "3. **Use a função build-heap tradicional e a alternativa (Exercício 2)** para transformar um pequeno array aleatório (criado por você, com não mais do que 16 elementos) em heaps. Analise qual versão apresenta melhor desempenho (a original ou a alternativa) em termos de comparações e trocas.\n",
        "\n",
        "4. **Analise o desempenho** (tempo, comparações e trocas) **do heap-sort tradicional**, em arrays crescentes e decrescentes, de 100, 1000 e 10000 elementos**.\n",
        "\n",
        "**Desafios (exercícios extras)**:\n",
        "1. elabore a função **iteractive-build-heap**, que constrói um heap inserindo elemento por elemento em um array auxiliar (ou seja, não é local). Analise qual versão apresenta melhor desempenho (a iterativa não local ou a tradicional, local), avaliando o número de trocas e de comparações.\n",
        "2. **implementar um 'min-heap'**, que é um heap invertido, ou seja, que tem o menor elemento na raiz (e os pais são menores ou iguais aos filhos)."
      ]
    },
    {
      "cell_type": "code",
      "execution_count": 2,
      "metadata": {
        "colab": {
          "base_uri": "https://localhost:8080/"
        },
        "id": "XtqdXgNiRO2n",
        "outputId": "4f0f7ae1-1319-4017-ec04-0a7d43370ab3"
      },
      "outputs": [
        {
          "name": "stdout",
          "output_type": "stream",
          "text": [
            "[8, 5, 7, 4, 1, 6, 3, 2]\n"
          ]
        }
      ],
      "source": [
        "#===================\n",
        "# TESTE BUILD HEAP\n",
        "#==================\n",
        "array = [1,2,3,4,5,6,7,8]\n",
        "build_heap(array)\n",
        "print(array)"
      ]
    },
    {
      "cell_type": "code",
      "execution_count": 3,
      "metadata": {
        "colab": {
          "base_uri": "https://localhost:8080/"
        },
        "id": "VEukY8wFTBDf",
        "outputId": "92fc9a49-977c-4490-a8d0-7edb9d833aec"
      },
      "outputs": [
        {
          "name": "stdout",
          "output_type": "stream",
          "text": [
            "               08               \n",
            "       05              07       \n",
            "   04      01      06      03   \n",
            " 02 \n"
          ]
        }
      ],
      "source": [
        "#===================\n",
        "# TESTE PRINT HEAP\n",
        "#==================\n",
        "print_heap(array)"
      ]
    },
    {
      "cell_type": "code",
      "execution_count": 4,
      "metadata": {
        "colab": {
          "base_uri": "https://localhost:8080/"
        },
        "id": "wGwzFEGiTN-d",
        "outputId": "f8181526-d422-4009-f920-7d85e58817c6"
      },
      "outputs": [
        {
          "name": "stdout",
          "output_type": "stream",
          "text": [
            "pai de  2 :  4\n",
            "pai de  3 :  7\n",
            "filho esq de  4 :  2\n",
            "filho dir de  5 :  1\n"
          ]
        }
      ],
      "source": [
        "#================================\n",
        "# TESTE NODOS PAI,FILHO E IRMAOS\n",
        "#================================\n",
        "print(\"pai de \", array[7], \": \", array[pai(array, 7)])\n",
        "print(\"pai de \", array[6], \": \", array[pai(array, 6)])\n",
        "print(\"filho esq de \", array[3], \": \", array[filho_e(array, 3)])\n",
        "print(\"filho dir de \", array[1], \": \", array[filho_d(array, 1)])"
      ]
    },
    {
      "cell_type": "code",
      "execution_count": 5,
      "metadata": {
        "colab": {
          "base_uri": "https://localhost:8080/"
        },
        "id": "nzww_QIyRO2s",
        "outputId": "9064110b-b9c5-4e59-b103-e0c34c720e65"
      },
      "outputs": [
        {
          "name": "stdout",
          "output_type": "stream",
          "text": [
            "[1, 3, 4, 5, 6, 7, 8, 9]\n"
          ]
        }
      ],
      "source": [
        "#===================\n",
        "# TESTE HEAPSORT\n",
        "#==================\n",
        "array = [9,8,7,6,5,4,3,1]\n",
        "heap_sort(array)\n",
        "print(array)"
      ]
    },
    {
      "cell_type": "markdown",
      "metadata": {
        "id": "uku3yLeOgDA9"
      },
      "source": [
        "## Declaração das demais funções\n",
        "\n",
        "\n",
        "---\n",
        "\n"
      ]
    },
    {
      "cell_type": "markdown",
      "metadata": {},
      "source": [
        "### FUNÇÕES HEAP_MAX, EXTRACT_MAX, HEAP_INSERT e HEAP_SORT2"
      ]
    },
    {
      "cell_type": "code",
      "execution_count": 371,
      "metadata": {
        "id": "jKnmcZNRSBfR"
      },
      "outputs": [],
      "source": [
        "#======================\n",
        "# DEFINIÇÃO DE FUNÇÕES\n",
        "#======================\n",
        "def heap_max(heap):\n",
        "    #log_operacoes = {'trocas':0, 'comparacoes':0}\n",
        "    #print('a implementar')\n",
        "    return heap[0]\n",
        "\n",
        "def extract_max(heap):\n",
        "  tam = len(heap)\n",
        "  log_operacoes = {'trocas':0, 'comparacoes':0}\n",
        "  log_operacoes['trocas'] = log_operacoes['trocas'] + 1\n",
        "  heap[0], heap[-1] = heap[-1], heap[0]\n",
        "  max = heap.pop()\n",
        "\n",
        " #Rotina Heapify\n",
        "  ultimo_pai = math.floor(len(heap)/2)-1\n",
        "  for indice in range(ultimo_pai, -1, -1):                                    # range entre [ultimo_pai e -1| (i.e., 0)\n",
        "          heapify(heap, indice, len(heap), log_operacoes)\n",
        "\n",
        "  return {'max': max,'log_operacoes': log_operacoes}\n",
        "\n",
        "def heap_insert(heap, elemento):\n",
        "    log_operacoes = {'trocas':0, 'comparacoes':0}\n",
        "    tam = len(heap) # tamanho do heap original\n",
        "    heap.append(elemento)\n",
        "    #troca elemento adicionado pelo elemento da raiz\n",
        "    log_operacoes['trocas'] = log_operacoes['trocas'] + 1\n",
        "    #print(f'{heap[0]} - {heap[-1]}')  #teste para validar inserção\n",
        "    heap[0], heap[-1] = heap[-1], heap[0]\n",
        "    #heapify para reordenar o heap\n",
        "    ultimo_pai = math.floor(len(heap)/2)-1\n",
        "    for indice in range(ultimo_pai, -1, -1):                                    # range entre [ultimo_pai e -1| (i.e., 0)\n",
        "        heapify(heap, indice, len(heap), log_operacoes)\n",
        "\n",
        "    return log_operacoes\n",
        "\n"
      ]
    },
    {
      "cell_type": "markdown",
      "metadata": {
        "id": "-HjqHujHgVyK"
      },
      "source": [
        "### Teste heap_max\n"
      ]
    },
    {
      "cell_type": "code",
      "execution_count": 106,
      "metadata": {
        "colab": {
          "base_uri": "https://localhost:8080/"
        },
        "id": "_kdV94333jp9",
        "outputId": "b1c04ff3-e1f2-46e7-a2e7-e8f8a0233a24"
      },
      "outputs": [
        {
          "name": "stdout",
          "output_type": "stream",
          "text": [
            "1\n"
          ]
        }
      ],
      "source": [
        "\n",
        "array = [9,8,7,6,5,4,3,1]\n",
        "heap_sort(array)\n",
        "x = heap_max(array)\n",
        "print(x)"
      ]
    },
    {
      "cell_type": "code",
      "execution_count": 124,
      "metadata": {
        "colab": {
          "base_uri": "https://localhost:8080/"
        },
        "id": "tJrr73ll8EOM",
        "outputId": "aa302f84-ea82-4713-bac1-7d90be41aa15"
      },
      "outputs": [
        {
          "name": "stdout",
          "output_type": "stream",
          "text": [
            "---------- TESTE HEAP_MAX --------------\n",
            "HEAP_MAX: 22\n",
            "Vetor: [22, 11, 7, 8, 5, 6, 3, 4]\n",
            "Heap:\n",
            "\n",
            "               22               \n",
            "       11              07       \n",
            "   08      05      06      03   \n",
            " 04 \n"
          ]
        }
      ],
      "source": [
        "#===================\n",
        "# TESTE HEAP_MAX\n",
        "#===================\n",
        "print('---------- TESTE HEAP_MAX --------------')\n",
        "heap_teste = [11,22,3,4,5,6,7,8]\n",
        "build_heap(heap_teste)\n",
        "print(f'HEAP_MAX: {heap_max(heap_teste)}')\n",
        "print(f'Vetor: {heap_teste}\\nHeap:\\n')\n",
        "print_heap(heap_teste)\n"
      ]
    },
    {
      "cell_type": "markdown",
      "metadata": {
        "id": "7P2EDs_SiG6x"
      },
      "source": [
        "### Teste HEAP_INSERT"
      ]
    },
    {
      "cell_type": "code",
      "execution_count": 388,
      "metadata": {
        "colab": {
          "base_uri": "https://localhost:8080/"
        },
        "id": "nWNZP5MnsMkF",
        "outputId": "76ce5a49-caa4-4fb6-cbb7-25063baa9891"
      },
      "outputs": [
        {
          "name": "stdout",
          "output_type": "stream",
          "text": [
            "---------- TESTE HEAP_INSERT --------------\n",
            "Elemento a ser inserido: 9\n",
            "Vetor: [22, 11, 7, 8, 5, 6, 3, 4]\n",
            "Heap:\n",
            "\n",
            "               22               \n",
            "       11              07       \n",
            "   08      05      06      03   \n",
            " 04 \n",
            "------Heap Apos Insercao -----------------\n",
            "\n",
            "{'trocas': 5, 'comparacoes': 8}\n",
            "Vetor: [22, 11, 7, 9, 5, 6, 3, 4, 8]\n",
            "Heap:\n",
            "\n",
            "               22               \n",
            "       11              07       \n",
            "   09      05      06      03   \n",
            " 04  08 \n",
            "--------------------------------------------\n",
            "Elemento a ser inserido: 23\n",
            "Vetor: [22, 11, 7, 9, 5, 6, 3, 4, 8]\n",
            "Heap:\n",
            "\n",
            "               22               \n",
            "       11              07       \n",
            "   09      05      06      03   \n",
            " 04  08 \n",
            "\n",
            "------  Heap Apos Insercao -----------------\n",
            "\n",
            "{'trocas': 3, 'comparacoes': 4}\n",
            "Vetor: [23, 22, 7, 9, 11, 6, 3, 4, 8, 5]\n",
            "Heap:\n",
            "\n",
            "               23               \n",
            "       22              07       \n",
            "   09      11      06      03   \n",
            " 04  08  05 \n"
          ]
        }
      ],
      "source": [
        "#===================\n",
        "# TESTE HEAP_INSERT\n",
        "#===================\n",
        "\n",
        "n = 9\n",
        "print('---------- TESTE HEAP_INSERT --------------')\n",
        "heap_teste = [11,22,3,4,5,6,7,8]\n",
        "build_heap(heap_teste)\n",
        "print(f'Elemento a ser inserido: {n}')\n",
        "print(f'Vetor: {heap_teste}\\nHeap:\\n')\n",
        "print_heap(heap_teste)\n",
        "\n",
        "print('------Heap Apos Insercao -----------------')\n",
        "print(f'\\n{heap_insert(heap_teste,n)}') #log_operacoes\n",
        "print(f'Vetor: {heap_teste}\\nHeap:\\n')\n",
        "print_heap(heap_teste)\n",
        "\n",
        "print('--------------------------------------------')\n",
        "n = 23\n",
        "print(f'Elemento a ser inserido: {n}')\n",
        "print(f'Vetor: {heap_teste}\\nHeap:\\n')\n",
        "print_heap(heap_teste)\n",
        "\n",
        "print('\\n------  Heap Apos Insercao -----------------')\n",
        "print(f'\\n{heap_insert(heap_teste,n)}') #log_operacoes\n",
        "print(f'Vetor: {heap_teste}\\nHeap:\\n')\n",
        "print_heap(heap_teste)\n",
        "\n"
      ]
    },
    {
      "cell_type": "code",
      "execution_count": 389,
      "metadata": {
        "colab": {
          "base_uri": "https://localhost:8080/"
        },
        "id": "VXRvW_Bw_utJ",
        "outputId": "e20e4c10-a26b-44f8-ee29-364238480ace"
      },
      "outputs": [
        {
          "name": "stdout",
          "output_type": "stream",
          "text": [
            "--------------------------------------------\n",
            "Elemento a ser inserido: 16\n",
            "Vetor: [23, 22, 7, 9, 11, 6, 3, 4, 8, 5]\n",
            "Heap:\n",
            "\n",
            "               23               \n",
            "       22              07       \n",
            "   09      11      06      03   \n",
            " 04  08  05 \n",
            "\n",
            "------  Heap Apos Insercao -----------------\n",
            "\n",
            "{'trocas': 5, 'comparacoes': 8}\n",
            "Vetor: [23, 22, 7, 9, 16, 6, 3, 4, 8, 5, 11]\n",
            "Heap:\n",
            "\n",
            "               23               \n",
            "       22              07       \n",
            "   09      16      06      03   \n",
            " 04  08  05  11 \n"
          ]
        }
      ],
      "source": [
        "#===================\n",
        "# TESTE HEAP_INSERT\n",
        "#===================\n",
        "\n",
        "print('--------------------------------------------')\n",
        "n = 16\n",
        "print(f'Elemento a ser inserido: {n}')\n",
        "print(f'Vetor: {heap_teste}\\nHeap:\\n')\n",
        "print_heap(heap_teste)\n",
        "\n",
        "print('\\n------  Heap Apos Insercao -----------------')\n",
        "print(f'\\n{heap_insert(heap_teste,n)}') #log_operacoes\n",
        "print(f'Vetor: {heap_teste}\\nHeap:\\n')\n",
        "print_heap(heap_teste)"
      ]
    },
    {
      "cell_type": "markdown",
      "metadata": {
        "id": "ASdWL6gUdq1N"
      },
      "source": [
        "## EXTRACT MAX\n"
      ]
    },
    {
      "cell_type": "code",
      "execution_count": 142,
      "metadata": {
        "colab": {
          "base_uri": "https://localhost:8080/"
        },
        "id": "9l6jK0WlXrOm",
        "outputId": "752fae54-0074-4feb-c9a3-74376b09e73a"
      },
      "outputs": [
        {
          "name": "stdout",
          "output_type": "stream",
          "text": [
            "Heap Antes: \n",
            "\n",
            "               22               \n",
            "       11              07       \n",
            "   08      05      06      03   \n",
            " 04 \n",
            "---------------------------------\n",
            "MAX: 22 \n",
            "{'trocas': 3, 'comparacoes': 4}\n",
            "array: [11, 8, 7, 4, 5, 6, 3]\n",
            "Heap:\n",
            "       11       \n",
            "   08      07   \n",
            " 04  05  06  03 \n",
            "---------------------------------\n",
            "MAX: 11 \n",
            "{'trocas': 3, 'comparacoes': 5}\n",
            "array: [8, 5, 7, 4, 3, 6]\n",
            "Heap:\n",
            "       08       \n",
            "   05      07   \n",
            " 04  03  06 \n",
            "---------------------------------\n",
            "MAX: 8 \n",
            "{'trocas': 2, 'comparacoes': 2}\n",
            "array: [7, 5, 6, 4, 3]\n",
            "Heap:\n",
            "       07       \n",
            "   05      06   \n",
            " 04  03 \n"
          ]
        }
      ],
      "source": [
        "#===================\n",
        "# TESTE EXTRACT_MAX\n",
        "#===================\n",
        "\n",
        "heap_teste = [11,22,3,4,5,6,7,8]\n",
        "build_heap(heap_teste)\n",
        "\n",
        "print(f'Heap Antes: \\n')\n",
        "print_heap(heap_teste)\n",
        "\n",
        "for i in range(3):\n",
        "  print('---------------------------------')\n",
        "  log_max =  extract_max(heap_teste)\n",
        "  print(f\"MAX: {log_max['max']} \\n{log_max['log_operacoes']}\")\n",
        "  print(f'array: {heap_teste}\\nHeap:')\n",
        "  print_heap(heap_teste)\n"
      ]
    },
    {
      "cell_type": "markdown",
      "metadata": {
        "id": "WGMDVwTRUBXS"
      },
      "source": [
        "## Exercício 2 - Build Heap Alternativo"
      ]
    },
    {
      "cell_type": "markdown",
      "metadata": {},
      "source": [
        "### Constrói o heap de cima para baixo ao invés de baixo para cima"
      ]
    },
    {
      "cell_type": "code",
      "execution_count": 390,
      "metadata": {
        "id": "bzoEk0OWtzB0"
      },
      "outputs": [],
      "source": [
        "#### EXERCICIO 2 #####\n",
        "\n",
        "# Buildheap2: \n",
        "# constroi um heap de cima para baixo ao invés de baixo para cima, \n",
        "# a partir de um array (usado no heap_sort) \n",
        "def build_heap_2(array, log_operacoes={'trocas':0, 'comparacoes':0}):\n",
        "    ultimo_pai = math.floor(len(array)/2)\n",
        "    for indice in range(0, ultimo_pai, 1):\n",
        "\n",
        "      aux_trocas = log_operacoes['trocas']\n",
        "\n",
        "      heapify(array, indice, len(array), log_operacoes)\n",
        "      # Se houve troca é preciso verificar da raiz novamente, pos\n",
        "      # O algoritmo não garante que\n",
        "      if log_operacoes['trocas'] > aux_trocas:\n",
        "        build_heap_2(array, log_operacoes)\n",
        "    return log_operacoes\n",
        "\n",
        "  # Heapsort2\n",
        "def heap_sort_2(array):\n",
        "    log_operacoes = {'trocas':0, 'comparacoes':0}\n",
        "    heap_size = len(array)\n",
        "    qtd_elementos = heap_size-1\n",
        "\n",
        "    # constroi heap-max\n",
        "    #build_heap_auxiliar(array, log_operacoes)\n",
        "    build_heap_2(array, log_operacoes)\n",
        "\n",
        "    # desconstroi heap e ordena array\n",
        "    for i in range(qtd_elementos, 0, -1): #parte de qtd até zero, decrementado um a um\n",
        "        log_operacoes['trocas'] = log_operacoes['trocas'] + 1\n",
        "        array[i], array[0] = array[0], array[i]          # troca\n",
        "        heap_size = heap_size - 1\n",
        "        heapify(array, 0, heap_size, log_operacoes)\n",
        "\n",
        "    return log_operacoes"
      ]
    },
    {
      "cell_type": "code",
      "execution_count": 391,
      "metadata": {
        "colab": {
          "base_uri": "https://localhost:8080/"
        },
        "id": "l4hAVzops9lM",
        "outputId": "e5c8f5b8-8348-41cc-b1e5-e0a21cf32918"
      },
      "outputs": [
        {
          "name": "stdout",
          "output_type": "stream",
          "text": [
            "array: [23, 22, 7, 9, 16, 6, 3, 4, 8, 5, 11]\n",
            "\n",
            "               01               \n",
            "       02              03       \n",
            "   04      05      06      07   \n",
            " 09  11 \n",
            "\n",
            "Resultado: \n",
            "               11               \n",
            "       09              06       \n",
            "   07      02      03      01   \n",
            " 05  04 \n"
          ]
        }
      ],
      "source": [
        "#=====================================================\n",
        "# TESTE HEAP_SORT_2 (constrói heap de cima para baixo)\n",
        "#=====================================================\n",
        "\n",
        "heap_teste_2 = [1,2,3,4,5,6,7,9,11]\n",
        "print(f'array: {heap_teste}\\n')\n",
        "print_heap(heap_teste_2)\n",
        "#print(build_heap(heap_teste))\n",
        "print()\n",
        "\n",
        "build_heap_2(heap_teste_2)\n",
        "print('Resultado: ')\n",
        "print_heap(heap_teste_2)\n"
      ]
    },
    {
      "cell_type": "markdown",
      "metadata": {
        "id": "rJ3IqRiaWxrJ"
      },
      "source": [
        " ## Iteractive Build Heap\n"
      ]
    },
    {
      "cell_type": "code",
      "execution_count": 392,
      "metadata": {
        "id": "IvB4i1fBW1Jg"
      },
      "outputs": [],
      "source": [
        "#============================\n",
        "# Constrói Heap interativamente\n",
        "#=============================\n",
        "def iteractive_build_heap(array):\n",
        "  heap_aux = []\n",
        "  while len(array) > 0:\n",
        "    elemento_aux = array.pop()\n",
        "    heap_insert(heap_aux, elemento_aux)\n",
        "  return heap_aux"
      ]
    },
    {
      "cell_type": "code",
      "execution_count": 400,
      "metadata": {
        "colab": {
          "base_uri": "https://localhost:8080/"
        },
        "id": "m8ZDNfRaW1GA",
        "outputId": "342ad301-ff8d-4172-ccf1-3e17be2a1dd9"
      },
      "outputs": [
        {
          "name": "stdout",
          "output_type": "stream",
          "text": [
            "heap_aux: []\n",
            "\n",
            "heap_aux: [7, 3, 6]\n",
            "\n",
            "   07   \n",
            " 03  06 \n",
            "\n",
            "heap_aux: [8, 7, 6, 2, 3]\n",
            "\n",
            "       08       \n",
            "   07      06   \n",
            " 02  03 \n",
            "\n",
            "heap_aux: [11, 7, 8, 2, 3, 6, 4]\n",
            "\n",
            "       11       \n",
            "   07      08   \n",
            " 02  03  06  04 \n"
          ]
        }
      ],
      "source": [
        "#============================\n",
        "# TESTE ITERACTIVE_BUILD HEAP \n",
        "#=============================\n",
        "heap_aux = []\n",
        "print(f'heap_aux: {heap_aux}\\n')\n",
        "#print_heap(heap_aux)\n",
        "\n",
        "heap_insert(heap_aux, 3)\n",
        "heap_insert(heap_aux, 6)\n",
        "heap_insert(heap_aux, 7)\n",
        "\n",
        "print(f'heap_aux: {heap_aux}\\n')\n",
        "print_heap(heap_aux)\n",
        "\n",
        "heap_insert(heap_aux, 2)\n",
        "heap_insert(heap_aux, 8)\n",
        "\n",
        "print(f'\\nheap_aux: {heap_aux}\\n')\n",
        "print_heap(heap_aux)\n",
        "\n",
        "heap_insert(heap_aux, 11)\n",
        "heap_insert(heap_aux, 4)\n",
        "\n",
        "print(f'\\nheap_aux: {heap_aux}\\n')\n",
        "print_heap(heap_aux)"
      ]
    },
    {
      "cell_type": "markdown",
      "metadata": {
        "id": "CDo2p-qsVC-6"
      },
      "source": [
        "## Min Heap\n"
      ]
    },
    {
      "cell_type": "code",
      "execution_count": 401,
      "metadata": {
        "id": "Bn6vYN7FVFUg"
      },
      "outputs": [],
      "source": [
        "# build_heap_min: \n",
        "# constroi um heap a partir de um array (usado no heap_sort) \n",
        "# em que o menor item aparece no topo (em vez do maior)\n",
        "def build_heap_min(array, log_operacoes={'trocas':0, 'comparacoes':0}):\n",
        "    ultimo_pai = math.floor(len(array)/2)-1\n",
        "    for indice in range(ultimo_pai, -1, -1):                                    \n",
        "        heapify_min(array, indice, len(array), log_operacoes)\n",
        "    return log_operacoes\n",
        "\n",
        "# heapify_min: semelhante ao heapify anteriormente declarado, apenas \n",
        "# com a diferença de colocar os menores elementos no topo\n",
        "def heapify_min(array, elemento, heap_size, log_operacoes):\n",
        "    e=filho_e(array, elemento)\n",
        "    d=filho_d(array, elemento)\n",
        "    menor=elemento\n",
        "\n",
        "    if e < heap_size and array[e] < array[menor]:\n",
        "      menor=e\n",
        "      log_operacoes['comparacoes'] = log_operacoes['comparacoes'] + 1\n",
        "    if d < heap_size and array[d] < array[menor]:\n",
        "      log_operacoes['comparacoes'] = log_operacoes['comparacoes'] + 1\n",
        "      menor=d\n",
        "\n",
        "    if menor != elemento:\n",
        "      log_operacoes['comparacoes'] = log_operacoes['comparacoes'] + 1\n",
        "      log_operacoes['trocas'] = log_operacoes['trocas'] + 1\n",
        "      array[elemento],array[menor] = array[menor],array[elemento]\n",
        "      heapify_min(array, menor, heap_size, log_operacoes)\n",
        "\n",
        "    return log_operacoes"
      ]
    },
    {
      "cell_type": "code",
      "execution_count": 411,
      "metadata": {
        "colab": {
          "base_uri": "https://localhost:8080/"
        },
        "id": "x13fBIfWVONC",
        "outputId": "9f739b2a-a082-499c-91e5-926ff4c43c9d"
      },
      "outputs": [
        {
          "name": "stdout",
          "output_type": "stream",
          "text": [
            "\n",
            "heap_aux: [1, 2, 3, 4, 5, 6, 7, 8]\n",
            "{'trocas': 12, 'comparacoes': 27}\n",
            "\n",
            "               01               \n",
            "       02              03       \n",
            "   04      05      06      07   \n",
            " 08 \n",
            "\n",
            "--- Testando outro Heap ---\n",
            "\n",
            "heap_aux: [11, 22, 3, 4, 5, 6, 7, 8]\n",
            "{'trocas': 16, 'comparacoes': 36}\n",
            "\n",
            "               03               \n",
            "       04              06       \n",
            "   08      05      11      07   \n",
            " 22 \n"
          ]
        }
      ],
      "source": [
        "#==========================\n",
        "# TESTE BUILD_MIN_HEAP \n",
        "#==========================\n",
        "heap_teste = [1,2,3,4,5,6,7,8]\n",
        "print(f'\\nheap_aux: {heap_teste}')\n",
        "\n",
        "print(f'{build_heap_min(heap_teste)}\\n')\n",
        "\n",
        "print_heap(heap_teste)\n",
        "\n",
        "print(\"\\n--- Testando outro Heap ---\\n\")\n",
        "heap_teste_2 = [11,22,3,4,5,6,7,8]\n",
        "print(f'heap_aux: {heap_teste_2}')\n",
        "print(f'{build_heap_min(heap_teste_2)}\\n')\n",
        "print_heap(heap_teste_2)\n"
      ]
    },
    {
      "cell_type": "code",
      "execution_count": 413,
      "metadata": {
        "colab": {
          "base_uri": "https://localhost:8080/"
        },
        "id": "SdAnJX0KVOAw",
        "outputId": "e8506863-0125-4e49-9612-b9dea8a7fa2b"
      },
      "outputs": [
        {
          "name": "stdout",
          "output_type": "stream",
          "text": [
            "{'trocas': 32, 'comparacoes': 70}\n",
            "               00               \n",
            "       02              00       \n",
            "   05      03      02      16   \n",
            " 18  06  15  09  08  15  17 \n"
          ]
        }
      ],
      "source": [
        "#===========================================\n",
        "# TESTE BUILD_MIN_HEAP COM ARRAY ALEATÓRIO\n",
        "#===========================================\n",
        "gerador = np.random.RandomState()\n",
        "array_teste =  gerador.randint(0, 20, 14)\n",
        "print(build_heap_min(array_teste))\n",
        "print_heap(array_teste)"
      ]
    },
    {
      "cell_type": "markdown",
      "metadata": {},
      "source": [
        "## TESTES"
      ]
    },
    {
      "cell_type": "markdown",
      "metadata": {
        "id": "w-OwnfP90TUt"
      },
      "source": [
        "## Definicao dos Algoritmos"
      ]
    },
    {
      "cell_type": "code",
      "execution_count": 414,
      "metadata": {
        "id": "36d-5Ibd0TJY"
      },
      "outputs": [],
      "source": [
        "#============================================\n",
        "# DICIONARIO COM ALGORITMOS A SEREM TESTADOS\n",
        "#============================================\n",
        "algoritmos = {\n",
        "    'HEAP': { 'nome': 'Heap sort', 'funcao': heap_sort },\n",
        "    'HEAP_2': { 'nome': 'Heap sort Alternativo', 'funcao': heap_sort_2},\n",
        "}\n"
      ]
    },
    {
      "cell_type": "markdown",
      "metadata": {
        "id": "dj7OUTBbyUoT"
      },
      "source": [
        "## Funcao Teste"
      ]
    },
    {
      "cell_type": "markdown",
      "metadata": {
        "id": "IcQ1PWnNFpl1"
      },
      "source": [
        "Definicao da funcao teste"
      ]
    },
    {
      "cell_type": "code",
      "execution_count": 416,
      "metadata": {
        "id": "LiE69FXj3tC_"
      },
      "outputs": [],
      "source": [
        "import numpy as np  # importa a biblioteca numpy (que trabalha com arrays numéricos)\n",
        "import time         # importa a biblioteca utilizada para contar o tempo\n",
        "import pandas as pd # biblioteca para trabalhar com data frames\n",
        "import math\n",
        "from typing import Dict, Callable #biblioteca utilizada para poder passar um dicionario como parametro de funcao\n",
        "\n",
        "#testa_algoritmos\n",
        "def testa_algoritmos(algoritmos: Dict[str, Dict[str, Callable]], Array_Max_Value=None, Array_Length=None):\n",
        "  # Variáveis globais necessárias:\n",
        "  gerador = np.random.RandomState()  # cria um gerador de números aleatórios (descomente se for usar array aleatório)\n",
        "  medicoes = []                      # lista que armazena os resultados das medições em memória\n",
        "  # testa o desempenho dos algoritmos para diferentes tipos e quantidades (múltiplos de 10):\n",
        "  if Array_Max_Value is not None and Array_Length is not None:\n",
        "    arrays = {\n",
        "        \"decrescente\":        { 'tipo': 'D', 'conteudo': list(range(Array_Length, 0, -1))},         # array decrescente (pior caso)\n",
        "        \"random (aleatório)\": { 'tipo': 'R', 'conteudo': gerador.randint(0, Array_Max_Value, Array_Length)},  # gera array aleatório com 'qtd' números entre 0 e 'max'\n",
        "        \"crescente\":          { 'tipo': 'C', 'conteudo': list(range(0,Array_Length))}               # crescente (já ordenado)\n",
        "    }\n",
        "    medicoes = testa_algoritmos_aux(arrays, algoritmos, Array_Length)\n",
        "\n",
        "  else:\n",
        "    for qtd in [10**x for x in range(2, 4)]:\n",
        "      max = qtd\n",
        "      arrays = {\n",
        "          \"decrescente\":        { 'tipo': 'D', 'conteudo': list(range(qtd, 0, -1))},         # array decrescente (pior caso)\n",
        "          \"random (aleatório)\": { 'tipo': 'R', 'conteudo': gerador.randint(0, max+1, qtd)},  # gera array aleatório com 'qtd' números entre 0 e 'max'\n",
        "          \"crescente\":          { 'tipo': 'C', 'conteudo': list(range(0,qtd))}               # crescente (já ordenado)\n",
        "      }\n",
        "\n",
        "      medicoes = testa_algoritmos_aux(arrays, algoritmos, qtd)\n",
        "\n",
        "  return medicoes\n",
        "\n",
        "def testa_algoritmos_aux(arrays, algoritmos, qtd):\n",
        "  for array_info in arrays:                                      # itera sobre cada um dos tipos de array\n",
        "      array = arrays[array_info]['conteudo']\n",
        "      print('---------------------------------------------------')\n",
        "      print(f'Criando array {array_info} de tamanho {qtd}:')\n",
        "      print(f'{array}\\n')\n",
        "\n",
        "      for algoritmo in algoritmos:                       # itera sobre cada um dos algoritmos enunciados anteriormente\n",
        "        print('=> Avaliando ordenação por \"', algoritmos[algoritmo]['nome'], '\" no array...')\n",
        "\n",
        "        array_tmp = array.copy()                       # faz cópia do array para não perder\n",
        "\n",
        "        tempo = time.process_time()                     # armazena o tempo de início do processamento\n",
        "        m = algoritmos[algoritmo]['funcao'](array_tmp ) # aplica algorimo e retorna quantidade de trocas e comparações em 'm'\n",
        "        t = time.process_time() - tempo                 # verifica o tempo de fim de processamento e calcula a diferença\n",
        "        print('\\nArray ordenado:\\n', array_tmp, '\\n')\n",
        "\n",
        "        # armazena informações sobre a execução do algoritmo em um dicionário:\n",
        "        medicao = {}\n",
        "        medicao['algoritmo']=algoritmo\n",
        "        medicao['nome']=algoritmos[algoritmo]['nome']\n",
        "        medicao['tipo']=arrays[array_info]['tipo']\n",
        "        medicao['quantidade']=qtd\n",
        "        medicao['trocas']=m['trocas']\n",
        "        medicao['comparacoes']=m['comparacoes']\n",
        "        medicao['tempo']=t\n",
        "\n",
        "        medicoes.append(medicao)                              # adiciona medição em uma lista de medições\n",
        "\n",
        "  print('Fim do processamento!')\n",
        "  return medicoes"
      ]
    },
    {
      "cell_type": "code",
      "execution_count": 423,
      "metadata": {
        "colab": {
          "base_uri": "https://localhost:8080/"
        },
        "id": "S0h7BYVG5IyB",
        "outputId": "1fe75976-b03a-47fd-e381-22836152bf84"
      },
      "outputs": [
        {
          "name": "stdout",
          "output_type": "stream",
          "text": [
            "---------------------------------------------------\n",
            "Criando array decrescente de tamanho 16:\n",
            "[16, 15, 14, 13, 12, 11, 10, 9, 8, 7, 6, 5, 4, 3, 2, 1]\n",
            "\n",
            "=> Avaliando ordenação por \" Heap sort \" no array...\n",
            "\n",
            "Array ordenado:\n",
            " [1, 2, 3, 4, 5, 6, 7, 8, 9, 10, 11, 12, 13, 14, 15, 16] \n",
            "\n",
            "=> Avaliando ordenação por \" Heap sort Alternativo \" no array...\n",
            "\n",
            "Array ordenado:\n",
            " [1, 2, 3, 4, 5, 6, 7, 8, 9, 10, 11, 12, 13, 14, 15, 16] \n",
            "\n",
            "---------------------------------------------------\n",
            "Criando array random (aleatório) de tamanho 16:\n",
            "[91 41 82 39 55 85 95 79  9 89 99  8 79 28 62 86]\n",
            "\n",
            "=> Avaliando ordenação por \" Heap sort \" no array...\n",
            "\n",
            "Array ordenado:\n",
            " [ 8  9 28 39 41 55 62 79 79 82 85 86 89 91 95 99] \n",
            "\n",
            "=> Avaliando ordenação por \" Heap sort Alternativo \" no array...\n",
            "\n",
            "Array ordenado:\n",
            " [ 8  9 28 39 41 55 62 79 79 82 85 86 89 91 95 99] \n",
            "\n",
            "---------------------------------------------------\n",
            "Criando array crescente de tamanho 16:\n",
            "[0, 1, 2, 3, 4, 5, 6, 7, 8, 9, 10, 11, 12, 13, 14, 15]\n",
            "\n",
            "=> Avaliando ordenação por \" Heap sort \" no array...\n",
            "\n",
            "Array ordenado:\n",
            " [0, 1, 2, 3, 4, 5, 6, 7, 8, 9, 10, 11, 12, 13, 14, 15] \n",
            "\n",
            "=> Avaliando ordenação por \" Heap sort Alternativo \" no array...\n",
            "\n",
            "Array ordenado:\n",
            " [0, 1, 2, 3, 4, 5, 6, 7, 8, 9, 10, 11, 12, 13, 14, 15] \n",
            "\n",
            "Fim do processamento!\n"
          ]
        }
      ],
      "source": [
        "# TESTE DOS ALGORITMOS\n",
        "# array 10 elementos e valor max == 100\n",
        "medicoes = []\n",
        "medicoes = testa_algoritmos(algoritmos, 100, 16)"
      ]
    },
    {
      "cell_type": "code",
      "execution_count": 424,
      "metadata": {
        "colab": {
          "base_uri": "https://localhost:8080/"
        },
        "id": "QOvrEv9v5eVp",
        "outputId": "b49df761-bbcc-4c22-c1e7-e3bb9910a9fb"
      },
      "outputs": [
        {
          "name": "stdout",
          "output_type": "stream",
          "text": [
            "  algoritmo tipo  quantidade  trocas  comparacoes     tempo\n",
            "0      HEAP    D          16      42          127  0.000106\n",
            "1    HEAP_2    D          16      42          127  0.000088\n",
            "2      HEAP    R          16      49          148  0.000198\n",
            "3    HEAP_2    R          16      49          244  0.000288\n",
            "4      HEAP    C          16      58          175  0.000125\n",
            "5    HEAP_2    C          16      64          369  0.000271\n"
          ]
        }
      ],
      "source": [
        "### IMPRIME TABELA COM VALORES DO QUICK SORT INGENUO AO FINAL\n",
        "# Cria dataframe pandas (i.e., uma tabela) que organiza os dados relacionados com a execução dos algorimos acima\n",
        "df = pd.DataFrame(medicoes)\n",
        "cols = ['algoritmo', 'tipo', 'quantidade', 'trocas', 'comparacoes', 'tempo']  # ordem correta das colunas\n",
        "df = df[cols]\n",
        "\n",
        "print(df) # imprime os dados de execução dos algoritmos"
      ]
    },
    {
      "cell_type": "code",
      "execution_count": 425,
      "metadata": {
        "colab": {
          "base_uri": "https://localhost:8080/"
        },
        "id": "nGGWcxg96Hs6",
        "outputId": "840627fa-0963-401c-d1ea-eaae6e4fadb9"
      },
      "outputs": [
        {
          "name": "stdout",
          "output_type": "stream",
          "text": [
            "---------------------------------------------------\n",
            "Criando array decrescente de tamanho 100:\n",
            "[100, 99, 98, 97, 96, 95, 94, 93, 92, 91, 90, 89, 88, 87, 86, 85, 84, 83, 82, 81, 80, 79, 78, 77, 76, 75, 74, 73, 72, 71, 70, 69, 68, 67, 66, 65, 64, 63, 62, 61, 60, 59, 58, 57, 56, 55, 54, 53, 52, 51, 50, 49, 48, 47, 46, 45, 44, 43, 42, 41, 40, 39, 38, 37, 36, 35, 34, 33, 32, 31, 30, 29, 28, 27, 26, 25, 24, 23, 22, 21, 20, 19, 18, 17, 16, 15, 14, 13, 12, 11, 10, 9, 8, 7, 6, 5, 4, 3, 2, 1]\n",
            "\n",
            "=> Avaliando ordenação por \" Heap sort \" no array...\n",
            "\n",
            "Array ordenado:\n",
            " [1, 2, 3, 4, 5, 6, 7, 8, 9, 10, 11, 12, 13, 14, 15, 16, 17, 18, 19, 20, 21, 22, 23, 24, 25, 26, 27, 28, 29, 30, 31, 32, 33, 34, 35, 36, 37, 38, 39, 40, 41, 42, 43, 44, 45, 46, 47, 48, 49, 50, 51, 52, 53, 54, 55, 56, 57, 58, 59, 60, 61, 62, 63, 64, 65, 66, 67, 68, 69, 70, 71, 72, 73, 74, 75, 76, 77, 78, 79, 80, 81, 82, 83, 84, 85, 86, 87, 88, 89, 90, 91, 92, 93, 94, 95, 96, 97, 98, 99, 100] \n",
            "\n",
            "=> Avaliando ordenação por \" Heap sort Alternativo \" no array...\n",
            "\n",
            "Array ordenado:\n",
            " [1, 2, 3, 4, 5, 6, 7, 8, 9, 10, 11, 12, 13, 14, 15, 16, 17, 18, 19, 20, 21, 22, 23, 24, 25, 26, 27, 28, 29, 30, 31, 32, 33, 34, 35, 36, 37, 38, 39, 40, 41, 42, 43, 44, 45, 46, 47, 48, 49, 50, 51, 52, 53, 54, 55, 56, 57, 58, 59, 60, 61, 62, 63, 64, 65, 66, 67, 68, 69, 70, 71, 72, 73, 74, 75, 76, 77, 78, 79, 80, 81, 82, 83, 84, 85, 86, 87, 88, 89, 90, 91, 92, 93, 94, 95, 96, 97, 98, 99, 100] \n",
            "\n",
            "---------------------------------------------------\n",
            "Criando array random (aleatório) de tamanho 100:\n",
            "[ 85  52  96  55  65  57  53  13  14  12  92  59  92  77   0  20  94  91\n",
            "  40  93  61  34  71 100  61  95  49  76  54  82  86  37  38   6   7  93\n",
            "  56  29  63  49  80   6  89   7  55  25  59  78  44  81  79  20  23  60\n",
            "  81  62  39   1  93  42  69  75  27  44   0  38  82  87  24  99  29  43\n",
            "  55  38  23  59  34  50  90  69  76  73  92  61  37  79  71  55  35   3\n",
            "  67  66  35  53  42   7   7  32  13  21]\n",
            "\n",
            "=> Avaliando ordenação por \" Heap sort \" no array...\n",
            "\n",
            "Array ordenado:\n",
            " [  0   0   1   3   6   6   7   7   7   7  12  13  13  14  20  20  21  23\n",
            "  23  24  25  27  29  29  32  34  34  35  35  37  37  38  38  38  39  40\n",
            "  42  42  43  44  44  49  49  50  52  53  53  54  55  55  55  55  56  57\n",
            "  59  59  59  60  61  61  61  62  63  65  66  67  69  69  71  71  73  75\n",
            "  76  76  77  78  79  79  80  81  81  82  82  85  86  87  89  90  91  92\n",
            "  92  92  93  93  93  94  95  96  99 100] \n",
            "\n",
            "=> Avaliando ordenação por \" Heap sort Alternativo \" no array...\n",
            "\n",
            "Array ordenado:\n",
            " [  0   0   1   3   6   6   7   7   7   7  12  13  13  14  20  20  21  23\n",
            "  23  24  25  27  29  29  32  34  34  35  35  37  37  38  38  38  39  40\n",
            "  42  42  43  44  44  49  49  50  52  53  53  54  55  55  55  55  56  57\n",
            "  59  59  59  60  61  61  61  62  63  65  66  67  69  69  71  71  73  75\n",
            "  76  76  77  78  79  79  80  81  81  82  82  85  86  87  89  90  91  92\n",
            "  92  92  93  93  93  94  95  96  99 100] \n",
            "\n",
            "---------------------------------------------------\n",
            "Criando array crescente de tamanho 100:\n",
            "[0, 1, 2, 3, 4, 5, 6, 7, 8, 9, 10, 11, 12, 13, 14, 15, 16, 17, 18, 19, 20, 21, 22, 23, 24, 25, 26, 27, 28, 29, 30, 31, 32, 33, 34, 35, 36, 37, 38, 39, 40, 41, 42, 43, 44, 45, 46, 47, 48, 49, 50, 51, 52, 53, 54, 55, 56, 57, 58, 59, 60, 61, 62, 63, 64, 65, 66, 67, 68, 69, 70, 71, 72, 73, 74, 75, 76, 77, 78, 79, 80, 81, 82, 83, 84, 85, 86, 87, 88, 89, 90, 91, 92, 93, 94, 95, 96, 97, 98, 99]\n",
            "\n",
            "=> Avaliando ordenação por \" Heap sort \" no array...\n",
            "\n",
            "Array ordenado:\n",
            " [0, 1, 2, 3, 4, 5, 6, 7, 8, 9, 10, 11, 12, 13, 14, 15, 16, 17, 18, 19, 20, 21, 22, 23, 24, 25, 26, 27, 28, 29, 30, 31, 32, 33, 34, 35, 36, 37, 38, 39, 40, 41, 42, 43, 44, 45, 46, 47, 48, 49, 50, 51, 52, 53, 54, 55, 56, 57, 58, 59, 60, 61, 62, 63, 64, 65, 66, 67, 68, 69, 70, 71, 72, 73, 74, 75, 76, 77, 78, 79, 80, 81, 82, 83, 84, 85, 86, 87, 88, 89, 90, 91, 92, 93, 94, 95, 96, 97, 98, 99] \n",
            "\n",
            "=> Avaliando ordenação por \" Heap sort Alternativo \" no array...\n",
            "\n",
            "Array ordenado:\n",
            " [0, 1, 2, 3, 4, 5, 6, 7, 8, 9, 10, 11, 12, 13, 14, 15, 16, 17, 18, 19, 20, 21, 22, 23, 24, 25, 26, 27, 28, 29, 30, 31, 32, 33, 34, 35, 36, 37, 38, 39, 40, 41, 42, 43, 44, 45, 46, 47, 48, 49, 50, 51, 52, 53, 54, 55, 56, 57, 58, 59, 60, 61, 62, 63, 64, 65, 66, 67, 68, 69, 70, 71, 72, 73, 74, 75, 76, 77, 78, 79, 80, 81, 82, 83, 84, 85, 86, 87, 88, 89, 90, 91, 92, 93, 94, 95, 96, 97, 98, 99] \n",
            "\n",
            "Fim do processamento!\n",
            "---------------------------------------------------\n",
            "Criando array decrescente de tamanho 1000:\n",
            "[1000, 999, 998, 997, 996, 995, 994, 993, 992, 991, 990, 989, 988, 987, 986, 985, 984, 983, 982, 981, 980, 979, 978, 977, 976, 975, 974, 973, 972, 971, 970, 969, 968, 967, 966, 965, 964, 963, 962, 961, 960, 959, 958, 957, 956, 955, 954, 953, 952, 951, 950, 949, 948, 947, 946, 945, 944, 943, 942, 941, 940, 939, 938, 937, 936, 935, 934, 933, 932, 931, 930, 929, 928, 927, 926, 925, 924, 923, 922, 921, 920, 919, 918, 917, 916, 915, 914, 913, 912, 911, 910, 909, 908, 907, 906, 905, 904, 903, 902, 901, 900, 899, 898, 897, 896, 895, 894, 893, 892, 891, 890, 889, 888, 887, 886, 885, 884, 883, 882, 881, 880, 879, 878, 877, 876, 875, 874, 873, 872, 871, 870, 869, 868, 867, 866, 865, 864, 863, 862, 861, 860, 859, 858, 857, 856, 855, 854, 853, 852, 851, 850, 849, 848, 847, 846, 845, 844, 843, 842, 841, 840, 839, 838, 837, 836, 835, 834, 833, 832, 831, 830, 829, 828, 827, 826, 825, 824, 823, 822, 821, 820, 819, 818, 817, 816, 815, 814, 813, 812, 811, 810, 809, 808, 807, 806, 805, 804, 803, 802, 801, 800, 799, 798, 797, 796, 795, 794, 793, 792, 791, 790, 789, 788, 787, 786, 785, 784, 783, 782, 781, 780, 779, 778, 777, 776, 775, 774, 773, 772, 771, 770, 769, 768, 767, 766, 765, 764, 763, 762, 761, 760, 759, 758, 757, 756, 755, 754, 753, 752, 751, 750, 749, 748, 747, 746, 745, 744, 743, 742, 741, 740, 739, 738, 737, 736, 735, 734, 733, 732, 731, 730, 729, 728, 727, 726, 725, 724, 723, 722, 721, 720, 719, 718, 717, 716, 715, 714, 713, 712, 711, 710, 709, 708, 707, 706, 705, 704, 703, 702, 701, 700, 699, 698, 697, 696, 695, 694, 693, 692, 691, 690, 689, 688, 687, 686, 685, 684, 683, 682, 681, 680, 679, 678, 677, 676, 675, 674, 673, 672, 671, 670, 669, 668, 667, 666, 665, 664, 663, 662, 661, 660, 659, 658, 657, 656, 655, 654, 653, 652, 651, 650, 649, 648, 647, 646, 645, 644, 643, 642, 641, 640, 639, 638, 637, 636, 635, 634, 633, 632, 631, 630, 629, 628, 627, 626, 625, 624, 623, 622, 621, 620, 619, 618, 617, 616, 615, 614, 613, 612, 611, 610, 609, 608, 607, 606, 605, 604, 603, 602, 601, 600, 599, 598, 597, 596, 595, 594, 593, 592, 591, 590, 589, 588, 587, 586, 585, 584, 583, 582, 581, 580, 579, 578, 577, 576, 575, 574, 573, 572, 571, 570, 569, 568, 567, 566, 565, 564, 563, 562, 561, 560, 559, 558, 557, 556, 555, 554, 553, 552, 551, 550, 549, 548, 547, 546, 545, 544, 543, 542, 541, 540, 539, 538, 537, 536, 535, 534, 533, 532, 531, 530, 529, 528, 527, 526, 525, 524, 523, 522, 521, 520, 519, 518, 517, 516, 515, 514, 513, 512, 511, 510, 509, 508, 507, 506, 505, 504, 503, 502, 501, 500, 499, 498, 497, 496, 495, 494, 493, 492, 491, 490, 489, 488, 487, 486, 485, 484, 483, 482, 481, 480, 479, 478, 477, 476, 475, 474, 473, 472, 471, 470, 469, 468, 467, 466, 465, 464, 463, 462, 461, 460, 459, 458, 457, 456, 455, 454, 453, 452, 451, 450, 449, 448, 447, 446, 445, 444, 443, 442, 441, 440, 439, 438, 437, 436, 435, 434, 433, 432, 431, 430, 429, 428, 427, 426, 425, 424, 423, 422, 421, 420, 419, 418, 417, 416, 415, 414, 413, 412, 411, 410, 409, 408, 407, 406, 405, 404, 403, 402, 401, 400, 399, 398, 397, 396, 395, 394, 393, 392, 391, 390, 389, 388, 387, 386, 385, 384, 383, 382, 381, 380, 379, 378, 377, 376, 375, 374, 373, 372, 371, 370, 369, 368, 367, 366, 365, 364, 363, 362, 361, 360, 359, 358, 357, 356, 355, 354, 353, 352, 351, 350, 349, 348, 347, 346, 345, 344, 343, 342, 341, 340, 339, 338, 337, 336, 335, 334, 333, 332, 331, 330, 329, 328, 327, 326, 325, 324, 323, 322, 321, 320, 319, 318, 317, 316, 315, 314, 313, 312, 311, 310, 309, 308, 307, 306, 305, 304, 303, 302, 301, 300, 299, 298, 297, 296, 295, 294, 293, 292, 291, 290, 289, 288, 287, 286, 285, 284, 283, 282, 281, 280, 279, 278, 277, 276, 275, 274, 273, 272, 271, 270, 269, 268, 267, 266, 265, 264, 263, 262, 261, 260, 259, 258, 257, 256, 255, 254, 253, 252, 251, 250, 249, 248, 247, 246, 245, 244, 243, 242, 241, 240, 239, 238, 237, 236, 235, 234, 233, 232, 231, 230, 229, 228, 227, 226, 225, 224, 223, 222, 221, 220, 219, 218, 217, 216, 215, 214, 213, 212, 211, 210, 209, 208, 207, 206, 205, 204, 203, 202, 201, 200, 199, 198, 197, 196, 195, 194, 193, 192, 191, 190, 189, 188, 187, 186, 185, 184, 183, 182, 181, 180, 179, 178, 177, 176, 175, 174, 173, 172, 171, 170, 169, 168, 167, 166, 165, 164, 163, 162, 161, 160, 159, 158, 157, 156, 155, 154, 153, 152, 151, 150, 149, 148, 147, 146, 145, 144, 143, 142, 141, 140, 139, 138, 137, 136, 135, 134, 133, 132, 131, 130, 129, 128, 127, 126, 125, 124, 123, 122, 121, 120, 119, 118, 117, 116, 115, 114, 113, 112, 111, 110, 109, 108, 107, 106, 105, 104, 103, 102, 101, 100, 99, 98, 97, 96, 95, 94, 93, 92, 91, 90, 89, 88, 87, 86, 85, 84, 83, 82, 81, 80, 79, 78, 77, 76, 75, 74, 73, 72, 71, 70, 69, 68, 67, 66, 65, 64, 63, 62, 61, 60, 59, 58, 57, 56, 55, 54, 53, 52, 51, 50, 49, 48, 47, 46, 45, 44, 43, 42, 41, 40, 39, 38, 37, 36, 35, 34, 33, 32, 31, 30, 29, 28, 27, 26, 25, 24, 23, 22, 21, 20, 19, 18, 17, 16, 15, 14, 13, 12, 11, 10, 9, 8, 7, 6, 5, 4, 3, 2, 1]\n",
            "\n",
            "=> Avaliando ordenação por \" Heap sort \" no array...\n",
            "\n",
            "Array ordenado:\n",
            " [1, 2, 3, 4, 5, 6, 7, 8, 9, 10, 11, 12, 13, 14, 15, 16, 17, 18, 19, 20, 21, 22, 23, 24, 25, 26, 27, 28, 29, 30, 31, 32, 33, 34, 35, 36, 37, 38, 39, 40, 41, 42, 43, 44, 45, 46, 47, 48, 49, 50, 51, 52, 53, 54, 55, 56, 57, 58, 59, 60, 61, 62, 63, 64, 65, 66, 67, 68, 69, 70, 71, 72, 73, 74, 75, 76, 77, 78, 79, 80, 81, 82, 83, 84, 85, 86, 87, 88, 89, 90, 91, 92, 93, 94, 95, 96, 97, 98, 99, 100, 101, 102, 103, 104, 105, 106, 107, 108, 109, 110, 111, 112, 113, 114, 115, 116, 117, 118, 119, 120, 121, 122, 123, 124, 125, 126, 127, 128, 129, 130, 131, 132, 133, 134, 135, 136, 137, 138, 139, 140, 141, 142, 143, 144, 145, 146, 147, 148, 149, 150, 151, 152, 153, 154, 155, 156, 157, 158, 159, 160, 161, 162, 163, 164, 165, 166, 167, 168, 169, 170, 171, 172, 173, 174, 175, 176, 177, 178, 179, 180, 181, 182, 183, 184, 185, 186, 187, 188, 189, 190, 191, 192, 193, 194, 195, 196, 197, 198, 199, 200, 201, 202, 203, 204, 205, 206, 207, 208, 209, 210, 211, 212, 213, 214, 215, 216, 217, 218, 219, 220, 221, 222, 223, 224, 225, 226, 227, 228, 229, 230, 231, 232, 233, 234, 235, 236, 237, 238, 239, 240, 241, 242, 243, 244, 245, 246, 247, 248, 249, 250, 251, 252, 253, 254, 255, 256, 257, 258, 259, 260, 261, 262, 263, 264, 265, 266, 267, 268, 269, 270, 271, 272, 273, 274, 275, 276, 277, 278, 279, 280, 281, 282, 283, 284, 285, 286, 287, 288, 289, 290, 291, 292, 293, 294, 295, 296, 297, 298, 299, 300, 301, 302, 303, 304, 305, 306, 307, 308, 309, 310, 311, 312, 313, 314, 315, 316, 317, 318, 319, 320, 321, 322, 323, 324, 325, 326, 327, 328, 329, 330, 331, 332, 333, 334, 335, 336, 337, 338, 339, 340, 341, 342, 343, 344, 345, 346, 347, 348, 349, 350, 351, 352, 353, 354, 355, 356, 357, 358, 359, 360, 361, 362, 363, 364, 365, 366, 367, 368, 369, 370, 371, 372, 373, 374, 375, 376, 377, 378, 379, 380, 381, 382, 383, 384, 385, 386, 387, 388, 389, 390, 391, 392, 393, 394, 395, 396, 397, 398, 399, 400, 401, 402, 403, 404, 405, 406, 407, 408, 409, 410, 411, 412, 413, 414, 415, 416, 417, 418, 419, 420, 421, 422, 423, 424, 425, 426, 427, 428, 429, 430, 431, 432, 433, 434, 435, 436, 437, 438, 439, 440, 441, 442, 443, 444, 445, 446, 447, 448, 449, 450, 451, 452, 453, 454, 455, 456, 457, 458, 459, 460, 461, 462, 463, 464, 465, 466, 467, 468, 469, 470, 471, 472, 473, 474, 475, 476, 477, 478, 479, 480, 481, 482, 483, 484, 485, 486, 487, 488, 489, 490, 491, 492, 493, 494, 495, 496, 497, 498, 499, 500, 501, 502, 503, 504, 505, 506, 507, 508, 509, 510, 511, 512, 513, 514, 515, 516, 517, 518, 519, 520, 521, 522, 523, 524, 525, 526, 527, 528, 529, 530, 531, 532, 533, 534, 535, 536, 537, 538, 539, 540, 541, 542, 543, 544, 545, 546, 547, 548, 549, 550, 551, 552, 553, 554, 555, 556, 557, 558, 559, 560, 561, 562, 563, 564, 565, 566, 567, 568, 569, 570, 571, 572, 573, 574, 575, 576, 577, 578, 579, 580, 581, 582, 583, 584, 585, 586, 587, 588, 589, 590, 591, 592, 593, 594, 595, 596, 597, 598, 599, 600, 601, 602, 603, 604, 605, 606, 607, 608, 609, 610, 611, 612, 613, 614, 615, 616, 617, 618, 619, 620, 621, 622, 623, 624, 625, 626, 627, 628, 629, 630, 631, 632, 633, 634, 635, 636, 637, 638, 639, 640, 641, 642, 643, 644, 645, 646, 647, 648, 649, 650, 651, 652, 653, 654, 655, 656, 657, 658, 659, 660, 661, 662, 663, 664, 665, 666, 667, 668, 669, 670, 671, 672, 673, 674, 675, 676, 677, 678, 679, 680, 681, 682, 683, 684, 685, 686, 687, 688, 689, 690, 691, 692, 693, 694, 695, 696, 697, 698, 699, 700, 701, 702, 703, 704, 705, 706, 707, 708, 709, 710, 711, 712, 713, 714, 715, 716, 717, 718, 719, 720, 721, 722, 723, 724, 725, 726, 727, 728, 729, 730, 731, 732, 733, 734, 735, 736, 737, 738, 739, 740, 741, 742, 743, 744, 745, 746, 747, 748, 749, 750, 751, 752, 753, 754, 755, 756, 757, 758, 759, 760, 761, 762, 763, 764, 765, 766, 767, 768, 769, 770, 771, 772, 773, 774, 775, 776, 777, 778, 779, 780, 781, 782, 783, 784, 785, 786, 787, 788, 789, 790, 791, 792, 793, 794, 795, 796, 797, 798, 799, 800, 801, 802, 803, 804, 805, 806, 807, 808, 809, 810, 811, 812, 813, 814, 815, 816, 817, 818, 819, 820, 821, 822, 823, 824, 825, 826, 827, 828, 829, 830, 831, 832, 833, 834, 835, 836, 837, 838, 839, 840, 841, 842, 843, 844, 845, 846, 847, 848, 849, 850, 851, 852, 853, 854, 855, 856, 857, 858, 859, 860, 861, 862, 863, 864, 865, 866, 867, 868, 869, 870, 871, 872, 873, 874, 875, 876, 877, 878, 879, 880, 881, 882, 883, 884, 885, 886, 887, 888, 889, 890, 891, 892, 893, 894, 895, 896, 897, 898, 899, 900, 901, 902, 903, 904, 905, 906, 907, 908, 909, 910, 911, 912, 913, 914, 915, 916, 917, 918, 919, 920, 921, 922, 923, 924, 925, 926, 927, 928, 929, 930, 931, 932, 933, 934, 935, 936, 937, 938, 939, 940, 941, 942, 943, 944, 945, 946, 947, 948, 949, 950, 951, 952, 953, 954, 955, 956, 957, 958, 959, 960, 961, 962, 963, 964, 965, 966, 967, 968, 969, 970, 971, 972, 973, 974, 975, 976, 977, 978, 979, 980, 981, 982, 983, 984, 985, 986, 987, 988, 989, 990, 991, 992, 993, 994, 995, 996, 997, 998, 999, 1000] \n",
            "\n",
            "=> Avaliando ordenação por \" Heap sort Alternativo \" no array...\n",
            "\n",
            "Array ordenado:\n",
            " [1, 2, 3, 4, 5, 6, 7, 8, 9, 10, 11, 12, 13, 14, 15, 16, 17, 18, 19, 20, 21, 22, 23, 24, 25, 26, 27, 28, 29, 30, 31, 32, 33, 34, 35, 36, 37, 38, 39, 40, 41, 42, 43, 44, 45, 46, 47, 48, 49, 50, 51, 52, 53, 54, 55, 56, 57, 58, 59, 60, 61, 62, 63, 64, 65, 66, 67, 68, 69, 70, 71, 72, 73, 74, 75, 76, 77, 78, 79, 80, 81, 82, 83, 84, 85, 86, 87, 88, 89, 90, 91, 92, 93, 94, 95, 96, 97, 98, 99, 100, 101, 102, 103, 104, 105, 106, 107, 108, 109, 110, 111, 112, 113, 114, 115, 116, 117, 118, 119, 120, 121, 122, 123, 124, 125, 126, 127, 128, 129, 130, 131, 132, 133, 134, 135, 136, 137, 138, 139, 140, 141, 142, 143, 144, 145, 146, 147, 148, 149, 150, 151, 152, 153, 154, 155, 156, 157, 158, 159, 160, 161, 162, 163, 164, 165, 166, 167, 168, 169, 170, 171, 172, 173, 174, 175, 176, 177, 178, 179, 180, 181, 182, 183, 184, 185, 186, 187, 188, 189, 190, 191, 192, 193, 194, 195, 196, 197, 198, 199, 200, 201, 202, 203, 204, 205, 206, 207, 208, 209, 210, 211, 212, 213, 214, 215, 216, 217, 218, 219, 220, 221, 222, 223, 224, 225, 226, 227, 228, 229, 230, 231, 232, 233, 234, 235, 236, 237, 238, 239, 240, 241, 242, 243, 244, 245, 246, 247, 248, 249, 250, 251, 252, 253, 254, 255, 256, 257, 258, 259, 260, 261, 262, 263, 264, 265, 266, 267, 268, 269, 270, 271, 272, 273, 274, 275, 276, 277, 278, 279, 280, 281, 282, 283, 284, 285, 286, 287, 288, 289, 290, 291, 292, 293, 294, 295, 296, 297, 298, 299, 300, 301, 302, 303, 304, 305, 306, 307, 308, 309, 310, 311, 312, 313, 314, 315, 316, 317, 318, 319, 320, 321, 322, 323, 324, 325, 326, 327, 328, 329, 330, 331, 332, 333, 334, 335, 336, 337, 338, 339, 340, 341, 342, 343, 344, 345, 346, 347, 348, 349, 350, 351, 352, 353, 354, 355, 356, 357, 358, 359, 360, 361, 362, 363, 364, 365, 366, 367, 368, 369, 370, 371, 372, 373, 374, 375, 376, 377, 378, 379, 380, 381, 382, 383, 384, 385, 386, 387, 388, 389, 390, 391, 392, 393, 394, 395, 396, 397, 398, 399, 400, 401, 402, 403, 404, 405, 406, 407, 408, 409, 410, 411, 412, 413, 414, 415, 416, 417, 418, 419, 420, 421, 422, 423, 424, 425, 426, 427, 428, 429, 430, 431, 432, 433, 434, 435, 436, 437, 438, 439, 440, 441, 442, 443, 444, 445, 446, 447, 448, 449, 450, 451, 452, 453, 454, 455, 456, 457, 458, 459, 460, 461, 462, 463, 464, 465, 466, 467, 468, 469, 470, 471, 472, 473, 474, 475, 476, 477, 478, 479, 480, 481, 482, 483, 484, 485, 486, 487, 488, 489, 490, 491, 492, 493, 494, 495, 496, 497, 498, 499, 500, 501, 502, 503, 504, 505, 506, 507, 508, 509, 510, 511, 512, 513, 514, 515, 516, 517, 518, 519, 520, 521, 522, 523, 524, 525, 526, 527, 528, 529, 530, 531, 532, 533, 534, 535, 536, 537, 538, 539, 540, 541, 542, 543, 544, 545, 546, 547, 548, 549, 550, 551, 552, 553, 554, 555, 556, 557, 558, 559, 560, 561, 562, 563, 564, 565, 566, 567, 568, 569, 570, 571, 572, 573, 574, 575, 576, 577, 578, 579, 580, 581, 582, 583, 584, 585, 586, 587, 588, 589, 590, 591, 592, 593, 594, 595, 596, 597, 598, 599, 600, 601, 602, 603, 604, 605, 606, 607, 608, 609, 610, 611, 612, 613, 614, 615, 616, 617, 618, 619, 620, 621, 622, 623, 624, 625, 626, 627, 628, 629, 630, 631, 632, 633, 634, 635, 636, 637, 638, 639, 640, 641, 642, 643, 644, 645, 646, 647, 648, 649, 650, 651, 652, 653, 654, 655, 656, 657, 658, 659, 660, 661, 662, 663, 664, 665, 666, 667, 668, 669, 670, 671, 672, 673, 674, 675, 676, 677, 678, 679, 680, 681, 682, 683, 684, 685, 686, 687, 688, 689, 690, 691, 692, 693, 694, 695, 696, 697, 698, 699, 700, 701, 702, 703, 704, 705, 706, 707, 708, 709, 710, 711, 712, 713, 714, 715, 716, 717, 718, 719, 720, 721, 722, 723, 724, 725, 726, 727, 728, 729, 730, 731, 732, 733, 734, 735, 736, 737, 738, 739, 740, 741, 742, 743, 744, 745, 746, 747, 748, 749, 750, 751, 752, 753, 754, 755, 756, 757, 758, 759, 760, 761, 762, 763, 764, 765, 766, 767, 768, 769, 770, 771, 772, 773, 774, 775, 776, 777, 778, 779, 780, 781, 782, 783, 784, 785, 786, 787, 788, 789, 790, 791, 792, 793, 794, 795, 796, 797, 798, 799, 800, 801, 802, 803, 804, 805, 806, 807, 808, 809, 810, 811, 812, 813, 814, 815, 816, 817, 818, 819, 820, 821, 822, 823, 824, 825, 826, 827, 828, 829, 830, 831, 832, 833, 834, 835, 836, 837, 838, 839, 840, 841, 842, 843, 844, 845, 846, 847, 848, 849, 850, 851, 852, 853, 854, 855, 856, 857, 858, 859, 860, 861, 862, 863, 864, 865, 866, 867, 868, 869, 870, 871, 872, 873, 874, 875, 876, 877, 878, 879, 880, 881, 882, 883, 884, 885, 886, 887, 888, 889, 890, 891, 892, 893, 894, 895, 896, 897, 898, 899, 900, 901, 902, 903, 904, 905, 906, 907, 908, 909, 910, 911, 912, 913, 914, 915, 916, 917, 918, 919, 920, 921, 922, 923, 924, 925, 926, 927, 928, 929, 930, 931, 932, 933, 934, 935, 936, 937, 938, 939, 940, 941, 942, 943, 944, 945, 946, 947, 948, 949, 950, 951, 952, 953, 954, 955, 956, 957, 958, 959, 960, 961, 962, 963, 964, 965, 966, 967, 968, 969, 970, 971, 972, 973, 974, 975, 976, 977, 978, 979, 980, 981, 982, 983, 984, 985, 986, 987, 988, 989, 990, 991, 992, 993, 994, 995, 996, 997, 998, 999, 1000] \n",
            "\n",
            "---------------------------------------------------\n",
            "Criando array random (aleatório) de tamanho 1000:\n",
            "[ 974  776  767  977  947   63  195  244  993  906  705  568  138   42\n",
            "  248  728  449  593  661  629  887  219  336  878  230  792  222  116\n",
            "  775  792  606   15  140  923  649  833  191   43  988  459 1000  609\n",
            "  240  405  276  784  270  273  450  162  840  712 1000  650  469  198\n",
            "  713  875  842  814  932  675  996  230  137  218  220  838  443  935\n",
            "  617  419  551   99  765  484  761  595  100  171  728  784  548  866\n",
            "  254  622  801  669  656  179  602  160  700  462  901  956  516  504\n",
            "  129  100  127  980  904  270  375  513  704   24  685  220   99   28\n",
            "  846  838  438  727   20  916   31  598  406  189  250  761  545  951\n",
            "  896   11  754  834  527   64  427   32  267  873  828  410  533  766\n",
            "  617  137  992  695  523  190  142  507   85  132  400  200    8  834\n",
            "  827  661  333  573  919  716  760  960  750   65   37  356   75  856\n",
            "  950  174  120  212  400  665   99  721  530  386  320  388  967  878\n",
            "  665  580  922  885  592  872  143  498  257  569  111  930  108  631\n",
            "  941  255  622  683  121  119  783  253  126   40  838  712  341   48\n",
            "  607  220  515  198  733  938  362  350   60  250  260  339  623  990\n",
            "  746  252  363   21  310  888   26  161  539  735   68  218  581  220\n",
            "  610  862  430   44  341  472  672  884  121  225  787  369  329  999\n",
            "  608  915  120  852  540  624  909  785  480    0  694  890  422  660\n",
            "  577  250  474    9  508  184  388  262  108  239  220  621  402  777\n",
            "  787  982  947  434  916  635  162  604  959  722  677  978   42  431\n",
            "  766  470  423  119  904  940  808  818  788  241  174  371  736  187\n",
            "   61  470  412  139  786  820  987    4  954  581   59   43  977  156\n",
            "  935  107  249  442  836  421  874  933  727  940   55  176  893  358\n",
            "  382  555  919  353   42  644  806  786  944  469  348  758  901  680\n",
            "  463  701  318  344  429  274  337  633  392   80  227   26  906   30\n",
            "  191  947  263  310  543   70  675  392  534  746  136  161   81  270\n",
            "  863  972  418  229  677  493  394  193  273  698  423  794  403  328\n",
            "  918  988  207  460   89  418  425  743  985  889  428  430  374   53\n",
            "  829  896  137  416  635  983    4  400  264  193  352  741  843   77\n",
            "   41  526  835  129  881  886  977  489  596  166  488  376  724   39\n",
            "  162  398  726  405  655  604   75  981  419  640  561  817  855  788\n",
            "  841  530  307  526  491   44  398  996  178  128  464  774  155  859\n",
            "  521   73  923  360  681  708  211  830  556  644  594  186  857  270\n",
            "   46  902   37  364  938  634  492  558  981  781  751  751  210  650\n",
            "  113  267  557  927  273  202  625  437  874  391  542  233  667  899\n",
            "  407  575  365  683  514  948   78  933  567   80  707  566  201  513\n",
            "  920   54  887  773  193  647  629  712  449  838  854   53  664   86\n",
            "  867  731  195  836  807  645    8  596  599  913  763  876  833  822\n",
            "  992  543  831  887  347   80  929  686  833  549  716  801  517  601\n",
            "  351  154  798  502  942  670  805  411   32  957   40  418  491  535\n",
            "  203   48   38  382   67  587  940  777  940  907  512  677  573  663\n",
            "  675  325  499  908  572  954  925  961  633  199  167  445  264  122\n",
            "  386  499  478  145  980   75  322  763  551  822   93  149   58  196\n",
            "  909  426  976  412  222  608   17  419  971  168  786  883  335  483\n",
            "   63  224  691  426  538  794  807   93  935  229  290  227  894  787\n",
            "  637  600  929  109   75  126  362  492  666  445  957   40  503  316\n",
            "  307  122  838  178  701  909  481  514  733  132  356  976  891  691\n",
            "  976  969  373  900  328  263   44  375  986  551  844  770  803   98\n",
            "  940  411  643  789  788  712  572  963  851  259  325  139  963  958\n",
            "  215  575  350  545  318  214   68  900  620  805  900  565  164  475\n",
            "  710  400   41  862  641  928  171  924  338  508  692   97  499  433\n",
            "  684  661  786  865  421  245  712  251  457  882   94  344    2  354\n",
            "  821  176  418  877   45  376  542  881  271   32  392  800  132  746\n",
            "  879  630  369  437   20  554  630  953  169  189  855  132  578  149\n",
            "  510  612  146   92  749  210  912  592  550  628  690  289  978  190\n",
            "  910  128  356  509  341  849  485  867  524  339  225  498  125   26\n",
            "  506  225  802  580    0  661  640  996  474  745  425  365  670  721\n",
            "  214  400  388  581  941  526  750  685  657  755  850  103  953    0\n",
            "   90  183  997  216  799  304  402  851  591  816  886  249  866  975\n",
            "  448  837  656  900   14  664   82  428  566  181  408  238  496  545\n",
            "  674  733  733   73  868  144  277  232  345  325  761   50  611  775\n",
            "  329  205  654  828  615  955  483  349  900  235   15  813  749  412\n",
            "  494  795  238  387  644  625   75  613  948   39  198  325  622  114\n",
            "  605  800  928  104  944  552  494  954   70  243  564  805  516  834\n",
            "   64  299   93  466  442  993  807  828  673  656  795  129  990  330\n",
            "  111  427  288  139  942  501  469   67   85  487  573  109  320  631\n",
            "  985  628  421  449  174   25  697  654  963  593   26  949  453  316\n",
            "  529  647   76  520   70  258  658  746  118  193  121  496  488  118\n",
            "  323  199  454  349  674  829  548  938  560  886   78  110  173  101\n",
            "  697  537  832  534   99  508  239  102  163  843  188  377  882  870\n",
            "  816  194  421  713  672   21]\n",
            "\n",
            "=> Avaliando ordenação por \" Heap sort \" no array...\n",
            "\n",
            "Array ordenado:\n",
            " [   0    0    0    2    4    4    8    8    9   11   14   15   15   17\n",
            "   20   20   21   21   24   25   26   26   26   26   28   30   31   32\n",
            "   32   32   37   37   38   39   39   40   40   40   41   41   42   42\n",
            "   42   43   43   44   44   44   45   46   48   48   50   53   53   54\n",
            "   55   58   59   60   61   63   63   64   64   65   67   67   68   68\n",
            "   70   70   70   73   73   75   75   75   75   75   76   77   78   78\n",
            "   80   80   80   81   82   85   85   86   89   90   92   93   93   93\n",
            "   94   97   98   99   99   99   99  100  100  101  102  103  104  107\n",
            "  108  108  109  109  110  111  111  113  114  116  118  118  119  119\n",
            "  120  120  121  121  121  122  122  125  126  126  127  128  128  129\n",
            "  129  129  132  132  132  132  136  137  137  137  138  139  139  139\n",
            "  140  142  143  144  145  146  149  149  154  155  156  160  161  161\n",
            "  162  162  162  163  164  166  167  168  169  171  171  173  174  174\n",
            "  174  176  176  178  178  179  181  183  184  186  187  188  189  189\n",
            "  190  190  191  191  193  193  193  193  194  195  195  196  198  198\n",
            "  198  199  199  200  201  202  203  205  207  210  210  211  212  214\n",
            "  214  215  216  218  218  219  220  220  220  220  220  222  222  224\n",
            "  225  225  225  227  227  229  229  230  230  232  233  235  238  238\n",
            "  239  239  240  241  243  244  245  248  249  249  250  250  250  251\n",
            "  252  253  254  255  257  258  259  260  262  263  263  264  264  267\n",
            "  267  270  270  270  270  271  273  273  273  274  276  277  288  289\n",
            "  290  299  304  307  307  310  310  316  316  318  318  320  320  322\n",
            "  323  325  325  325  325  328  328  329  329  330  333  335  336  337\n",
            "  338  339  339  341  341  341  344  344  345  347  348  349  349  350\n",
            "  350  351  352  353  354  356  356  356  358  360  362  362  363  364\n",
            "  365  365  369  369  371  373  374  375  375  376  376  377  382  382\n",
            "  386  386  387  388  388  388  391  392  392  392  394  398  398  400\n",
            "  400  400  400  400  402  402  403  405  405  406  407  408  410  411\n",
            "  411  412  412  412  416  418  418  418  418  419  419  419  421  421\n",
            "  421  421  422  423  423  425  425  426  426  427  427  428  428  429\n",
            "  430  430  431  433  434  437  437  438  442  442  443  445  445  448\n",
            "  449  449  449  450  453  454  457  459  460  462  463  464  466  469\n",
            "  469  469  470  470  472  474  474  475  478  480  481  483  483  484\n",
            "  485  487  488  488  489  491  491  492  492  493  494  494  496  496\n",
            "  498  498  499  499  499  501  502  503  504  506  507  508  508  508\n",
            "  509  510  512  513  513  514  514  515  516  516  517  520  521  523\n",
            "  524  526  526  526  527  529  530  530  533  534  534  535  537  538\n",
            "  539  540  542  542  543  543  545  545  545  548  548  549  550  551\n",
            "  551  551  552  554  555  556  557  558  560  561  564  565  566  566\n",
            "  567  568  569  572  572  573  573  573  575  575  577  578  580  580\n",
            "  581  581  581  587  591  592  592  593  593  594  595  596  596  598\n",
            "  599  600  601  602  604  604  605  606  607  608  608  609  610  611\n",
            "  612  613  615  617  617  620  621  622  622  622  623  624  625  625\n",
            "  628  628  629  629  630  630  631  631  633  633  634  635  635  637\n",
            "  640  640  641  643  644  644  644  645  647  647  649  650  650  654\n",
            "  654  655  656  656  656  657  658  660  661  661  661  661  663  664\n",
            "  664  665  665  666  667  669  670  670  672  672  673  674  674  675\n",
            "  675  675  677  677  677  680  681  683  683  684  685  685  686  690\n",
            "  691  691  692  694  695  697  697  698  700  701  701  704  705  707\n",
            "  708  710  712  712  712  712  712  713  713  716  716  721  721  722\n",
            "  724  726  727  727  728  728  731  733  733  733  733  735  736  741\n",
            "  743  745  746  746  746  746  749  749  750  750  751  751  754  755\n",
            "  758  760  761  761  761  763  763  765  766  766  767  770  773  774\n",
            "  775  775  776  777  777  781  783  784  784  785  786  786  786  786\n",
            "  787  787  787  788  788  788  789  792  792  794  794  795  795  798\n",
            "  799  800  800  801  801  802  803  805  805  805  806  807  807  807\n",
            "  808  813  814  816  816  817  818  820  821  822  822  827  828  828\n",
            "  828  829  829  830  831  832  833  833  833  834  834  834  835  836\n",
            "  836  837  838  838  838  838  838  840  841  842  843  843  844  846\n",
            "  849  850  851  851  852  854  855  855  856  857  859  862  862  863\n",
            "  865  866  866  867  867  868  870  872  873  874  874  875  876  877\n",
            "  878  878  879  881  881  882  882  883  884  885  886  886  886  887\n",
            "  887  887  888  889  890  891  893  894  896  896  899  900  900  900\n",
            "  900  900  901  901  902  904  904  906  906  907  908  909  909  909\n",
            "  910  912  913  915  916  916  918  919  919  920  922  923  923  924\n",
            "  925  927  928  928  929  929  930  932  933  933  935  935  935  938\n",
            "  938  938  940  940  940  940  940  941  941  942  942  944  944  947\n",
            "  947  947  948  948  949  950  951  953  953  954  954  954  955  956\n",
            "  957  957  958  959  960  961  963  963  963  967  969  971  972  974\n",
            "  975  976  976  976  977  977  977  978  978  980  980  981  981  982\n",
            "  983  985  985  986  987  988  988  990  990  992  992  993  993  996\n",
            "  996  996  997  999 1000 1000] \n",
            "\n",
            "=> Avaliando ordenação por \" Heap sort Alternativo \" no array...\n",
            "\n",
            "Array ordenado:\n",
            " [   0    0    0    2    4    4    8    8    9   11   14   15   15   17\n",
            "   20   20   21   21   24   25   26   26   26   26   28   30   31   32\n",
            "   32   32   37   37   38   39   39   40   40   40   41   41   42   42\n",
            "   42   43   43   44   44   44   45   46   48   48   50   53   53   54\n",
            "   55   58   59   60   61   63   63   64   64   65   67   67   68   68\n",
            "   70   70   70   73   73   75   75   75   75   75   76   77   78   78\n",
            "   80   80   80   81   82   85   85   86   89   90   92   93   93   93\n",
            "   94   97   98   99   99   99   99  100  100  101  102  103  104  107\n",
            "  108  108  109  109  110  111  111  113  114  116  118  118  119  119\n",
            "  120  120  121  121  121  122  122  125  126  126  127  128  128  129\n",
            "  129  129  132  132  132  132  136  137  137  137  138  139  139  139\n",
            "  140  142  143  144  145  146  149  149  154  155  156  160  161  161\n",
            "  162  162  162  163  164  166  167  168  169  171  171  173  174  174\n",
            "  174  176  176  178  178  179  181  183  184  186  187  188  189  189\n",
            "  190  190  191  191  193  193  193  193  194  195  195  196  198  198\n",
            "  198  199  199  200  201  202  203  205  207  210  210  211  212  214\n",
            "  214  215  216  218  218  219  220  220  220  220  220  222  222  224\n",
            "  225  225  225  227  227  229  229  230  230  232  233  235  238  238\n",
            "  239  239  240  241  243  244  245  248  249  249  250  250  250  251\n",
            "  252  253  254  255  257  258  259  260  262  263  263  264  264  267\n",
            "  267  270  270  270  270  271  273  273  273  274  276  277  288  289\n",
            "  290  299  304  307  307  310  310  316  316  318  318  320  320  322\n",
            "  323  325  325  325  325  328  328  329  329  330  333  335  336  337\n",
            "  338  339  339  341  341  341  344  344  345  347  348  349  349  350\n",
            "  350  351  352  353  354  356  356  356  358  360  362  362  363  364\n",
            "  365  365  369  369  371  373  374  375  375  376  376  377  382  382\n",
            "  386  386  387  388  388  388  391  392  392  392  394  398  398  400\n",
            "  400  400  400  400  402  402  403  405  405  406  407  408  410  411\n",
            "  411  412  412  412  416  418  418  418  418  419  419  419  421  421\n",
            "  421  421  422  423  423  425  425  426  426  427  427  428  428  429\n",
            "  430  430  431  433  434  437  437  438  442  442  443  445  445  448\n",
            "  449  449  449  450  453  454  457  459  460  462  463  464  466  469\n",
            "  469  469  470  470  472  474  474  475  478  480  481  483  483  484\n",
            "  485  487  488  488  489  491  491  492  492  493  494  494  496  496\n",
            "  498  498  499  499  499  501  502  503  504  506  507  508  508  508\n",
            "  509  510  512  513  513  514  514  515  516  516  517  520  521  523\n",
            "  524  526  526  526  527  529  530  530  533  534  534  535  537  538\n",
            "  539  540  542  542  543  543  545  545  545  548  548  549  550  551\n",
            "  551  551  552  554  555  556  557  558  560  561  564  565  566  566\n",
            "  567  568  569  572  572  573  573  573  575  575  577  578  580  580\n",
            "  581  581  581  587  591  592  592  593  593  594  595  596  596  598\n",
            "  599  600  601  602  604  604  605  606  607  608  608  609  610  611\n",
            "  612  613  615  617  617  620  621  622  622  622  623  624  625  625\n",
            "  628  628  629  629  630  630  631  631  633  633  634  635  635  637\n",
            "  640  640  641  643  644  644  644  645  647  647  649  650  650  654\n",
            "  654  655  656  656  656  657  658  660  661  661  661  661  663  664\n",
            "  664  665  665  666  667  669  670  670  672  672  673  674  674  675\n",
            "  675  675  677  677  677  680  681  683  683  684  685  685  686  690\n",
            "  691  691  692  694  695  697  697  698  700  701  701  704  705  707\n",
            "  708  710  712  712  712  712  712  713  713  716  716  721  721  722\n",
            "  724  726  727  727  728  728  731  733  733  733  733  735  736  741\n",
            "  743  745  746  746  746  746  749  749  750  750  751  751  754  755\n",
            "  758  760  761  761  761  763  763  765  766  766  767  770  773  774\n",
            "  775  775  776  777  777  781  783  784  784  785  786  786  786  786\n",
            "  787  787  787  788  788  788  789  792  792  794  794  795  795  798\n",
            "  799  800  800  801  801  802  803  805  805  805  806  807  807  807\n",
            "  808  813  814  816  816  817  818  820  821  822  822  827  828  828\n",
            "  828  829  829  830  831  832  833  833  833  834  834  834  835  836\n",
            "  836  837  838  838  838  838  838  840  841  842  843  843  844  846\n",
            "  849  850  851  851  852  854  855  855  856  857  859  862  862  863\n",
            "  865  866  866  867  867  868  870  872  873  874  874  875  876  877\n",
            "  878  878  879  881  881  882  882  883  884  885  886  886  886  887\n",
            "  887  887  888  889  890  891  893  894  896  896  899  900  900  900\n",
            "  900  900  901  901  902  904  904  906  906  907  908  909  909  909\n",
            "  910  912  913  915  916  916  918  919  919  920  922  923  923  924\n",
            "  925  927  928  928  929  929  930  932  933  933  935  935  935  938\n",
            "  938  938  940  940  940  940  940  941  941  942  942  944  944  947\n",
            "  947  947  948  948  949  950  951  953  953  954  954  954  955  956\n",
            "  957  957  958  959  960  961  963  963  963  967  969  971  972  974\n",
            "  975  976  976  976  977  977  977  978  978  980  980  981  981  982\n",
            "  983  985  985  986  987  988  988  990  990  992  992  993  993  996\n",
            "  996  996  997  999 1000 1000] \n",
            "\n",
            "---------------------------------------------------\n",
            "Criando array crescente de tamanho 1000:\n",
            "[0, 1, 2, 3, 4, 5, 6, 7, 8, 9, 10, 11, 12, 13, 14, 15, 16, 17, 18, 19, 20, 21, 22, 23, 24, 25, 26, 27, 28, 29, 30, 31, 32, 33, 34, 35, 36, 37, 38, 39, 40, 41, 42, 43, 44, 45, 46, 47, 48, 49, 50, 51, 52, 53, 54, 55, 56, 57, 58, 59, 60, 61, 62, 63, 64, 65, 66, 67, 68, 69, 70, 71, 72, 73, 74, 75, 76, 77, 78, 79, 80, 81, 82, 83, 84, 85, 86, 87, 88, 89, 90, 91, 92, 93, 94, 95, 96, 97, 98, 99, 100, 101, 102, 103, 104, 105, 106, 107, 108, 109, 110, 111, 112, 113, 114, 115, 116, 117, 118, 119, 120, 121, 122, 123, 124, 125, 126, 127, 128, 129, 130, 131, 132, 133, 134, 135, 136, 137, 138, 139, 140, 141, 142, 143, 144, 145, 146, 147, 148, 149, 150, 151, 152, 153, 154, 155, 156, 157, 158, 159, 160, 161, 162, 163, 164, 165, 166, 167, 168, 169, 170, 171, 172, 173, 174, 175, 176, 177, 178, 179, 180, 181, 182, 183, 184, 185, 186, 187, 188, 189, 190, 191, 192, 193, 194, 195, 196, 197, 198, 199, 200, 201, 202, 203, 204, 205, 206, 207, 208, 209, 210, 211, 212, 213, 214, 215, 216, 217, 218, 219, 220, 221, 222, 223, 224, 225, 226, 227, 228, 229, 230, 231, 232, 233, 234, 235, 236, 237, 238, 239, 240, 241, 242, 243, 244, 245, 246, 247, 248, 249, 250, 251, 252, 253, 254, 255, 256, 257, 258, 259, 260, 261, 262, 263, 264, 265, 266, 267, 268, 269, 270, 271, 272, 273, 274, 275, 276, 277, 278, 279, 280, 281, 282, 283, 284, 285, 286, 287, 288, 289, 290, 291, 292, 293, 294, 295, 296, 297, 298, 299, 300, 301, 302, 303, 304, 305, 306, 307, 308, 309, 310, 311, 312, 313, 314, 315, 316, 317, 318, 319, 320, 321, 322, 323, 324, 325, 326, 327, 328, 329, 330, 331, 332, 333, 334, 335, 336, 337, 338, 339, 340, 341, 342, 343, 344, 345, 346, 347, 348, 349, 350, 351, 352, 353, 354, 355, 356, 357, 358, 359, 360, 361, 362, 363, 364, 365, 366, 367, 368, 369, 370, 371, 372, 373, 374, 375, 376, 377, 378, 379, 380, 381, 382, 383, 384, 385, 386, 387, 388, 389, 390, 391, 392, 393, 394, 395, 396, 397, 398, 399, 400, 401, 402, 403, 404, 405, 406, 407, 408, 409, 410, 411, 412, 413, 414, 415, 416, 417, 418, 419, 420, 421, 422, 423, 424, 425, 426, 427, 428, 429, 430, 431, 432, 433, 434, 435, 436, 437, 438, 439, 440, 441, 442, 443, 444, 445, 446, 447, 448, 449, 450, 451, 452, 453, 454, 455, 456, 457, 458, 459, 460, 461, 462, 463, 464, 465, 466, 467, 468, 469, 470, 471, 472, 473, 474, 475, 476, 477, 478, 479, 480, 481, 482, 483, 484, 485, 486, 487, 488, 489, 490, 491, 492, 493, 494, 495, 496, 497, 498, 499, 500, 501, 502, 503, 504, 505, 506, 507, 508, 509, 510, 511, 512, 513, 514, 515, 516, 517, 518, 519, 520, 521, 522, 523, 524, 525, 526, 527, 528, 529, 530, 531, 532, 533, 534, 535, 536, 537, 538, 539, 540, 541, 542, 543, 544, 545, 546, 547, 548, 549, 550, 551, 552, 553, 554, 555, 556, 557, 558, 559, 560, 561, 562, 563, 564, 565, 566, 567, 568, 569, 570, 571, 572, 573, 574, 575, 576, 577, 578, 579, 580, 581, 582, 583, 584, 585, 586, 587, 588, 589, 590, 591, 592, 593, 594, 595, 596, 597, 598, 599, 600, 601, 602, 603, 604, 605, 606, 607, 608, 609, 610, 611, 612, 613, 614, 615, 616, 617, 618, 619, 620, 621, 622, 623, 624, 625, 626, 627, 628, 629, 630, 631, 632, 633, 634, 635, 636, 637, 638, 639, 640, 641, 642, 643, 644, 645, 646, 647, 648, 649, 650, 651, 652, 653, 654, 655, 656, 657, 658, 659, 660, 661, 662, 663, 664, 665, 666, 667, 668, 669, 670, 671, 672, 673, 674, 675, 676, 677, 678, 679, 680, 681, 682, 683, 684, 685, 686, 687, 688, 689, 690, 691, 692, 693, 694, 695, 696, 697, 698, 699, 700, 701, 702, 703, 704, 705, 706, 707, 708, 709, 710, 711, 712, 713, 714, 715, 716, 717, 718, 719, 720, 721, 722, 723, 724, 725, 726, 727, 728, 729, 730, 731, 732, 733, 734, 735, 736, 737, 738, 739, 740, 741, 742, 743, 744, 745, 746, 747, 748, 749, 750, 751, 752, 753, 754, 755, 756, 757, 758, 759, 760, 761, 762, 763, 764, 765, 766, 767, 768, 769, 770, 771, 772, 773, 774, 775, 776, 777, 778, 779, 780, 781, 782, 783, 784, 785, 786, 787, 788, 789, 790, 791, 792, 793, 794, 795, 796, 797, 798, 799, 800, 801, 802, 803, 804, 805, 806, 807, 808, 809, 810, 811, 812, 813, 814, 815, 816, 817, 818, 819, 820, 821, 822, 823, 824, 825, 826, 827, 828, 829, 830, 831, 832, 833, 834, 835, 836, 837, 838, 839, 840, 841, 842, 843, 844, 845, 846, 847, 848, 849, 850, 851, 852, 853, 854, 855, 856, 857, 858, 859, 860, 861, 862, 863, 864, 865, 866, 867, 868, 869, 870, 871, 872, 873, 874, 875, 876, 877, 878, 879, 880, 881, 882, 883, 884, 885, 886, 887, 888, 889, 890, 891, 892, 893, 894, 895, 896, 897, 898, 899, 900, 901, 902, 903, 904, 905, 906, 907, 908, 909, 910, 911, 912, 913, 914, 915, 916, 917, 918, 919, 920, 921, 922, 923, 924, 925, 926, 927, 928, 929, 930, 931, 932, 933, 934, 935, 936, 937, 938, 939, 940, 941, 942, 943, 944, 945, 946, 947, 948, 949, 950, 951, 952, 953, 954, 955, 956, 957, 958, 959, 960, 961, 962, 963, 964, 965, 966, 967, 968, 969, 970, 971, 972, 973, 974, 975, 976, 977, 978, 979, 980, 981, 982, 983, 984, 985, 986, 987, 988, 989, 990, 991, 992, 993, 994, 995, 996, 997, 998, 999]\n",
            "\n",
            "=> Avaliando ordenação por \" Heap sort \" no array...\n",
            "\n",
            "Array ordenado:\n",
            " [0, 1, 2, 3, 4, 5, 6, 7, 8, 9, 10, 11, 12, 13, 14, 15, 16, 17, 18, 19, 20, 21, 22, 23, 24, 25, 26, 27, 28, 29, 30, 31, 32, 33, 34, 35, 36, 37, 38, 39, 40, 41, 42, 43, 44, 45, 46, 47, 48, 49, 50, 51, 52, 53, 54, 55, 56, 57, 58, 59, 60, 61, 62, 63, 64, 65, 66, 67, 68, 69, 70, 71, 72, 73, 74, 75, 76, 77, 78, 79, 80, 81, 82, 83, 84, 85, 86, 87, 88, 89, 90, 91, 92, 93, 94, 95, 96, 97, 98, 99, 100, 101, 102, 103, 104, 105, 106, 107, 108, 109, 110, 111, 112, 113, 114, 115, 116, 117, 118, 119, 120, 121, 122, 123, 124, 125, 126, 127, 128, 129, 130, 131, 132, 133, 134, 135, 136, 137, 138, 139, 140, 141, 142, 143, 144, 145, 146, 147, 148, 149, 150, 151, 152, 153, 154, 155, 156, 157, 158, 159, 160, 161, 162, 163, 164, 165, 166, 167, 168, 169, 170, 171, 172, 173, 174, 175, 176, 177, 178, 179, 180, 181, 182, 183, 184, 185, 186, 187, 188, 189, 190, 191, 192, 193, 194, 195, 196, 197, 198, 199, 200, 201, 202, 203, 204, 205, 206, 207, 208, 209, 210, 211, 212, 213, 214, 215, 216, 217, 218, 219, 220, 221, 222, 223, 224, 225, 226, 227, 228, 229, 230, 231, 232, 233, 234, 235, 236, 237, 238, 239, 240, 241, 242, 243, 244, 245, 246, 247, 248, 249, 250, 251, 252, 253, 254, 255, 256, 257, 258, 259, 260, 261, 262, 263, 264, 265, 266, 267, 268, 269, 270, 271, 272, 273, 274, 275, 276, 277, 278, 279, 280, 281, 282, 283, 284, 285, 286, 287, 288, 289, 290, 291, 292, 293, 294, 295, 296, 297, 298, 299, 300, 301, 302, 303, 304, 305, 306, 307, 308, 309, 310, 311, 312, 313, 314, 315, 316, 317, 318, 319, 320, 321, 322, 323, 324, 325, 326, 327, 328, 329, 330, 331, 332, 333, 334, 335, 336, 337, 338, 339, 340, 341, 342, 343, 344, 345, 346, 347, 348, 349, 350, 351, 352, 353, 354, 355, 356, 357, 358, 359, 360, 361, 362, 363, 364, 365, 366, 367, 368, 369, 370, 371, 372, 373, 374, 375, 376, 377, 378, 379, 380, 381, 382, 383, 384, 385, 386, 387, 388, 389, 390, 391, 392, 393, 394, 395, 396, 397, 398, 399, 400, 401, 402, 403, 404, 405, 406, 407, 408, 409, 410, 411, 412, 413, 414, 415, 416, 417, 418, 419, 420, 421, 422, 423, 424, 425, 426, 427, 428, 429, 430, 431, 432, 433, 434, 435, 436, 437, 438, 439, 440, 441, 442, 443, 444, 445, 446, 447, 448, 449, 450, 451, 452, 453, 454, 455, 456, 457, 458, 459, 460, 461, 462, 463, 464, 465, 466, 467, 468, 469, 470, 471, 472, 473, 474, 475, 476, 477, 478, 479, 480, 481, 482, 483, 484, 485, 486, 487, 488, 489, 490, 491, 492, 493, 494, 495, 496, 497, 498, 499, 500, 501, 502, 503, 504, 505, 506, 507, 508, 509, 510, 511, 512, 513, 514, 515, 516, 517, 518, 519, 520, 521, 522, 523, 524, 525, 526, 527, 528, 529, 530, 531, 532, 533, 534, 535, 536, 537, 538, 539, 540, 541, 542, 543, 544, 545, 546, 547, 548, 549, 550, 551, 552, 553, 554, 555, 556, 557, 558, 559, 560, 561, 562, 563, 564, 565, 566, 567, 568, 569, 570, 571, 572, 573, 574, 575, 576, 577, 578, 579, 580, 581, 582, 583, 584, 585, 586, 587, 588, 589, 590, 591, 592, 593, 594, 595, 596, 597, 598, 599, 600, 601, 602, 603, 604, 605, 606, 607, 608, 609, 610, 611, 612, 613, 614, 615, 616, 617, 618, 619, 620, 621, 622, 623, 624, 625, 626, 627, 628, 629, 630, 631, 632, 633, 634, 635, 636, 637, 638, 639, 640, 641, 642, 643, 644, 645, 646, 647, 648, 649, 650, 651, 652, 653, 654, 655, 656, 657, 658, 659, 660, 661, 662, 663, 664, 665, 666, 667, 668, 669, 670, 671, 672, 673, 674, 675, 676, 677, 678, 679, 680, 681, 682, 683, 684, 685, 686, 687, 688, 689, 690, 691, 692, 693, 694, 695, 696, 697, 698, 699, 700, 701, 702, 703, 704, 705, 706, 707, 708, 709, 710, 711, 712, 713, 714, 715, 716, 717, 718, 719, 720, 721, 722, 723, 724, 725, 726, 727, 728, 729, 730, 731, 732, 733, 734, 735, 736, 737, 738, 739, 740, 741, 742, 743, 744, 745, 746, 747, 748, 749, 750, 751, 752, 753, 754, 755, 756, 757, 758, 759, 760, 761, 762, 763, 764, 765, 766, 767, 768, 769, 770, 771, 772, 773, 774, 775, 776, 777, 778, 779, 780, 781, 782, 783, 784, 785, 786, 787, 788, 789, 790, 791, 792, 793, 794, 795, 796, 797, 798, 799, 800, 801, 802, 803, 804, 805, 806, 807, 808, 809, 810, 811, 812, 813, 814, 815, 816, 817, 818, 819, 820, 821, 822, 823, 824, 825, 826, 827, 828, 829, 830, 831, 832, 833, 834, 835, 836, 837, 838, 839, 840, 841, 842, 843, 844, 845, 846, 847, 848, 849, 850, 851, 852, 853, 854, 855, 856, 857, 858, 859, 860, 861, 862, 863, 864, 865, 866, 867, 868, 869, 870, 871, 872, 873, 874, 875, 876, 877, 878, 879, 880, 881, 882, 883, 884, 885, 886, 887, 888, 889, 890, 891, 892, 893, 894, 895, 896, 897, 898, 899, 900, 901, 902, 903, 904, 905, 906, 907, 908, 909, 910, 911, 912, 913, 914, 915, 916, 917, 918, 919, 920, 921, 922, 923, 924, 925, 926, 927, 928, 929, 930, 931, 932, 933, 934, 935, 936, 937, 938, 939, 940, 941, 942, 943, 944, 945, 946, 947, 948, 949, 950, 951, 952, 953, 954, 955, 956, 957, 958, 959, 960, 961, 962, 963, 964, 965, 966, 967, 968, 969, 970, 971, 972, 973, 974, 975, 976, 977, 978, 979, 980, 981, 982, 983, 984, 985, 986, 987, 988, 989, 990, 991, 992, 993, 994, 995, 996, 997, 998, 999] \n",
            "\n",
            "=> Avaliando ordenação por \" Heap sort Alternativo \" no array...\n",
            "\n",
            "Array ordenado:\n",
            " [0, 1, 2, 3, 4, 5, 6, 7, 8, 9, 10, 11, 12, 13, 14, 15, 16, 17, 18, 19, 20, 21, 22, 23, 24, 25, 26, 27, 28, 29, 30, 31, 32, 33, 34, 35, 36, 37, 38, 39, 40, 41, 42, 43, 44, 45, 46, 47, 48, 49, 50, 51, 52, 53, 54, 55, 56, 57, 58, 59, 60, 61, 62, 63, 64, 65, 66, 67, 68, 69, 70, 71, 72, 73, 74, 75, 76, 77, 78, 79, 80, 81, 82, 83, 84, 85, 86, 87, 88, 89, 90, 91, 92, 93, 94, 95, 96, 97, 98, 99, 100, 101, 102, 103, 104, 105, 106, 107, 108, 109, 110, 111, 112, 113, 114, 115, 116, 117, 118, 119, 120, 121, 122, 123, 124, 125, 126, 127, 128, 129, 130, 131, 132, 133, 134, 135, 136, 137, 138, 139, 140, 141, 142, 143, 144, 145, 146, 147, 148, 149, 150, 151, 152, 153, 154, 155, 156, 157, 158, 159, 160, 161, 162, 163, 164, 165, 166, 167, 168, 169, 170, 171, 172, 173, 174, 175, 176, 177, 178, 179, 180, 181, 182, 183, 184, 185, 186, 187, 188, 189, 190, 191, 192, 193, 194, 195, 196, 197, 198, 199, 200, 201, 202, 203, 204, 205, 206, 207, 208, 209, 210, 211, 212, 213, 214, 215, 216, 217, 218, 219, 220, 221, 222, 223, 224, 225, 226, 227, 228, 229, 230, 231, 232, 233, 234, 235, 236, 237, 238, 239, 240, 241, 242, 243, 244, 245, 246, 247, 248, 249, 250, 251, 252, 253, 254, 255, 256, 257, 258, 259, 260, 261, 262, 263, 264, 265, 266, 267, 268, 269, 270, 271, 272, 273, 274, 275, 276, 277, 278, 279, 280, 281, 282, 283, 284, 285, 286, 287, 288, 289, 290, 291, 292, 293, 294, 295, 296, 297, 298, 299, 300, 301, 302, 303, 304, 305, 306, 307, 308, 309, 310, 311, 312, 313, 314, 315, 316, 317, 318, 319, 320, 321, 322, 323, 324, 325, 326, 327, 328, 329, 330, 331, 332, 333, 334, 335, 336, 337, 338, 339, 340, 341, 342, 343, 344, 345, 346, 347, 348, 349, 350, 351, 352, 353, 354, 355, 356, 357, 358, 359, 360, 361, 362, 363, 364, 365, 366, 367, 368, 369, 370, 371, 372, 373, 374, 375, 376, 377, 378, 379, 380, 381, 382, 383, 384, 385, 386, 387, 388, 389, 390, 391, 392, 393, 394, 395, 396, 397, 398, 399, 400, 401, 402, 403, 404, 405, 406, 407, 408, 409, 410, 411, 412, 413, 414, 415, 416, 417, 418, 419, 420, 421, 422, 423, 424, 425, 426, 427, 428, 429, 430, 431, 432, 433, 434, 435, 436, 437, 438, 439, 440, 441, 442, 443, 444, 445, 446, 447, 448, 449, 450, 451, 452, 453, 454, 455, 456, 457, 458, 459, 460, 461, 462, 463, 464, 465, 466, 467, 468, 469, 470, 471, 472, 473, 474, 475, 476, 477, 478, 479, 480, 481, 482, 483, 484, 485, 486, 487, 488, 489, 490, 491, 492, 493, 494, 495, 496, 497, 498, 499, 500, 501, 502, 503, 504, 505, 506, 507, 508, 509, 510, 511, 512, 513, 514, 515, 516, 517, 518, 519, 520, 521, 522, 523, 524, 525, 526, 527, 528, 529, 530, 531, 532, 533, 534, 535, 536, 537, 538, 539, 540, 541, 542, 543, 544, 545, 546, 547, 548, 549, 550, 551, 552, 553, 554, 555, 556, 557, 558, 559, 560, 561, 562, 563, 564, 565, 566, 567, 568, 569, 570, 571, 572, 573, 574, 575, 576, 577, 578, 579, 580, 581, 582, 583, 584, 585, 586, 587, 588, 589, 590, 591, 592, 593, 594, 595, 596, 597, 598, 599, 600, 601, 602, 603, 604, 605, 606, 607, 608, 609, 610, 611, 612, 613, 614, 615, 616, 617, 618, 619, 620, 621, 622, 623, 624, 625, 626, 627, 628, 629, 630, 631, 632, 633, 634, 635, 636, 637, 638, 639, 640, 641, 642, 643, 644, 645, 646, 647, 648, 649, 650, 651, 652, 653, 654, 655, 656, 657, 658, 659, 660, 661, 662, 663, 664, 665, 666, 667, 668, 669, 670, 671, 672, 673, 674, 675, 676, 677, 678, 679, 680, 681, 682, 683, 684, 685, 686, 687, 688, 689, 690, 691, 692, 693, 694, 695, 696, 697, 698, 699, 700, 701, 702, 703, 704, 705, 706, 707, 708, 709, 710, 711, 712, 713, 714, 715, 716, 717, 718, 719, 720, 721, 722, 723, 724, 725, 726, 727, 728, 729, 730, 731, 732, 733, 734, 735, 736, 737, 738, 739, 740, 741, 742, 743, 744, 745, 746, 747, 748, 749, 750, 751, 752, 753, 754, 755, 756, 757, 758, 759, 760, 761, 762, 763, 764, 765, 766, 767, 768, 769, 770, 771, 772, 773, 774, 775, 776, 777, 778, 779, 780, 781, 782, 783, 784, 785, 786, 787, 788, 789, 790, 791, 792, 793, 794, 795, 796, 797, 798, 799, 800, 801, 802, 803, 804, 805, 806, 807, 808, 809, 810, 811, 812, 813, 814, 815, 816, 817, 818, 819, 820, 821, 822, 823, 824, 825, 826, 827, 828, 829, 830, 831, 832, 833, 834, 835, 836, 837, 838, 839, 840, 841, 842, 843, 844, 845, 846, 847, 848, 849, 850, 851, 852, 853, 854, 855, 856, 857, 858, 859, 860, 861, 862, 863, 864, 865, 866, 867, 868, 869, 870, 871, 872, 873, 874, 875, 876, 877, 878, 879, 880, 881, 882, 883, 884, 885, 886, 887, 888, 889, 890, 891, 892, 893, 894, 895, 896, 897, 898, 899, 900, 901, 902, 903, 904, 905, 906, 907, 908, 909, 910, 911, 912, 913, 914, 915, 916, 917, 918, 919, 920, 921, 922, 923, 924, 925, 926, 927, 928, 929, 930, 931, 932, 933, 934, 935, 936, 937, 938, 939, 940, 941, 942, 943, 944, 945, 946, 947, 948, 949, 950, 951, 952, 953, 954, 955, 956, 957, 958, 959, 960, 961, 962, 963, 964, 965, 966, 967, 968, 969, 970, 971, 972, 973, 974, 975, 976, 977, 978, 979, 980, 981, 982, 983, 984, 985, 986, 987, 988, 989, 990, 991, 992, 993, 994, 995, 996, 997, 998, 999] \n",
            "\n",
            "Fim do processamento!\n"
          ]
        }
      ],
      "source": [
        "# TESTE DOS ALGORITMOS\n",
        "# array 100 e 1.000 elementos e valor max\n",
        "# para 10.000 houve estouro de pilha\n",
        "medicoes = []\n",
        "medicoes = testa_algoritmos(algoritmos)"
      ]
    },
    {
      "cell_type": "code",
      "execution_count": 426,
      "metadata": {
        "colab": {
          "base_uri": "https://localhost:8080/"
        },
        "id": "mBUCrAJM6mZq",
        "outputId": "67f5b22c-048e-4055-cf3d-3bec45f7a0e0"
      },
      "outputs": [
        {
          "name": "stdout",
          "output_type": "stream",
          "text": [
            "   algoritmo tipo  quantidade  trocas  comparacoes     tempo\n",
            "0       HEAP    D         100     516         1549  0.001296\n",
            "1     HEAP_2    D         100     516         1549  0.001033\n",
            "2       HEAP    R         100     574         1723  0.001826\n",
            "3     HEAP_2    R         100     582         6847  0.011113\n",
            "4       HEAP    C         100     640         1921  0.000738\n",
            "5     HEAP_2    C         100     706         9219  0.004220\n",
            "6       HEAP    D        1000    8316        24949  0.016442\n",
            "7     HEAP_2    D        1000    8316        24949  0.010372\n",
            "8       HEAP    R        1000    9044        27133  0.020381\n",
            "9     HEAP_2    R        1000    9367       706102  0.495441\n",
            "10      HEAP    C        1000    9708        29125  0.012533\n",
            "11    HEAP_2    C        1000   10512       762537  0.407179\n"
          ]
        }
      ],
      "source": [
        "### IMPRIME TABELA COM VALORES DO QUICK SORT INGENUO AO FINAL\n",
        "# Cria dataframe pandas (i.e., uma tabela) que organiza os dados relacionados com a execução dos algorimos acima\n",
        "\n",
        "\n",
        "df = pd.DataFrame(medicoes)\n",
        "cols = ['algoritmo', 'tipo', 'quantidade', 'trocas', 'comparacoes', 'tempo']  # ordem correta das colunas\n",
        "df = df[cols]\n",
        "\n",
        "print(df) # imprime os dados de execução dos algoritmos"
      ]
    }
  ],
  "metadata": {
    "colab": {
      "provenance": []
    },
    "kernelspec": {
      "display_name": "Python 3",
      "language": "python",
      "name": "python3"
    },
    "language_info": {
      "codemirror_mode": {
        "name": "ipython",
        "version": 3
      },
      "file_extension": ".py",
      "mimetype": "text/x-python",
      "name": "python",
      "nbconvert_exporter": "python",
      "pygments_lexer": "ipython3",
      "version": "3.7.3"
    }
  },
  "nbformat": 4,
  "nbformat_minor": 0
}
